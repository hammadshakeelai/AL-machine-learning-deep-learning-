{
 "cells": [
  {
   "cell_type": "code",
   "execution_count": null,
   "id": "21ed9c8a",
   "metadata": {},
   "outputs": [],
   "source": [
    "# learning is any process by which a system improves  performance from experience\n",
    "# ~herbert simon"
   ]
  },
  {
   "cell_type": "code",
   "execution_count": null,
   "id": "64b446ae",
   "metadata": {},
   "outputs": [],
   "source": [
    "# rule based vs intelligence based"
   ]
  },
  {
   "cell_type": "code",
   "execution_count": null,
   "id": "01c0ac05",
   "metadata": {},
   "outputs": [],
   "source": [
    "# excute rules does not need intelligence\n",
    "# understanding rule does"
   ]
  },
  {
   "cell_type": "code",
   "execution_count": null,
   "id": "283f119b",
   "metadata": {},
   "outputs": [],
   "source": [
    "# rule based things not in AI assignment:"
   ]
  },
  {
   "cell_type": "code",
   "execution_count": null,
   "id": "88d07fbc",
   "metadata": {},
   "outputs": [],
   "source": [
    "# turing award\n",
    "# donald e.knuth"
   ]
  },
  {
   "cell_type": "code",
   "execution_count": null,
   "id": "c35a378c",
   "metadata": {},
   "outputs": [],
   "source": [
    "# vicariously experiencing someones else life/events and learning from them"
   ]
  },
  {
   "cell_type": "code",
   "execution_count": null,
   "id": "be06a0a6",
   "metadata": {},
   "outputs": [],
   "source": [
    "# computer system experiences/see data and learning from them to increase performance"
   ]
  },
  {
   "cell_type": "code",
   "execution_count": null,
   "id": "538b5b67",
   "metadata": {},
   "outputs": [],
   "source": [
    "# Machine Learning\n",
    "# study of algorithms that \n",
    "    # improves their Performance P\n",
    "    # at some Task T\n",
    "    # with Experience E\n",
    "# A well-defined learning task is given by <P,T,E>"
   ]
  },
  {
   "cell_type": "code",
   "execution_count": null,
   "id": "547cd7db",
   "metadata": {},
   "outputs": [],
   "source": [
    "# task \n",
    "    # image classification\n",
    "# performance of model\n",
    "    # speed / matric\n",
    "    # many ways to measure\n",
    "# experience\n",
    "    # data feel\n",
    "        # 100 images one time seen by model M its an experience\n",
    "        # 0.5 performance\n",
    "        # when given more images performance increases as experience increases"
   ]
  },
  {
   "cell_type": "code",
   "execution_count": null,
   "id": "534f2d43",
   "metadata": {},
   "outputs": [],
   "source": [
    "# relative perfromance"
   ]
  },
  {
   "cell_type": "code",
   "execution_count": null,
   "id": "5c67a409",
   "metadata": {},
   "outputs": [],
   "source": [
    "# programmer writes instruction for computer to manage/transfrom data\n",
    "# raw to report\n",
    "# json to data\n",
    "\n"
   ]
  },
  {
   "cell_type": "code",
   "execution_count": null,
   "id": "e5848174",
   "metadata": {},
   "outputs": [],
   "source": [
    "# data + output = ML find a way to bridge this\n",
    "# generate a programme for this"
   ]
  },
  {
   "cell_type": "code",
   "execution_count": null,
   "id": "93687d36",
   "metadata": {},
   "outputs": [],
   "source": [
    "# navigation on mars\n",
    "# speech recognition\n",
    "# personalized medicine\n",
    "# genomics\n",
    "\n",
    "# if data is alot\n",
    "# and no maths can do it as best\n",
    "\n",
    "# exact vs estimate/approximate\n",
    "# like fluid dynamics\n",
    "\n",
    "# RGB -> GrayScale\n",
    "# go for the easy resource\n",
    "\n",
    "# not ML\n",
    "# less data\n",
    "# task solved by simple rules\n",
    "# 100% deterministic output\n"
   ]
  },
  {
   "cell_type": "code",
   "execution_count": null,
   "id": "df985d1f",
   "metadata": {},
   "outputs": [],
   "source": [
    "# MNIST dataset 0-9\n",
    "# 24x24x1 grayscale images\n"
   ]
  },
  {
   "cell_type": "code",
   "execution_count": null,
   "id": "0f07d1e9",
   "metadata": {},
   "outputs": [],
   "source": [
    "# pattern learning\n",
    "# Ai is all about prediction"
   ]
  },
  {
   "cell_type": "code",
   "execution_count": null,
   "id": "ffcb8caa",
   "metadata": {},
   "outputs": [],
   "source": [
    "# we dont explicitly programme it does that by it self"
   ]
  },
  {
   "cell_type": "code",
   "execution_count": null,
   "id": "1b0b85e7",
   "metadata": {},
   "outputs": [],
   "source": [
    "# supervised learning\n",
    "# ismai tables and x,y input,labels input,output\n",
    "# categories\n",
    "\n",
    "# image of 2,value 2\n",
    "# image of cycle,cycle\n",
    "\n",
    "# clustring is not classifiaction\n",
    "\n",
    "# when someone in supervision\n",
    "# input -> x,y -> label,output,tags"
   ]
  },
  {
   "cell_type": "code",
   "execution_count": null,
   "id": "31e9894e",
   "metadata": {},
   "outputs": [],
   "source": [
    "# sentiment analysis"
   ]
  },
  {
   "cell_type": "code",
   "execution_count": null,
   "id": "aabadbcb",
   "metadata": {},
   "outputs": [],
   "source": [
    "# unsuperwise learning\n",
    "# no outcome/output / label or sentiment\n",
    "# only input data / no labels\n",
    "# first clustering then labelling"
   ]
  },
  {
   "cell_type": "code",
   "execution_count": null,
   "id": "9d3ea835",
   "metadata": {},
   "outputs": [],
   "source": [
    "# semi-supervised has both type of data\n",
    "# only partial data is labelled\n",
    "# human error\n",
    "# hybrid approach "
   ]
  },
  {
   "cell_type": "code",
   "execution_count": null,
   "id": "8433dcfc",
   "metadata": {},
   "outputs": [],
   "source": [
    "# reinforcement learning\n",
    "# reward and panelty after some action\n",
    "# reward from sequence of actions else panelty\n",
    "# game thoery\n",
    "# nash equilibrium\n",
    "# agent navigates the environment\n",
    "\n"
   ]
  },
  {
   "cell_type": "code",
   "execution_count": null,
   "id": "3e1969c9",
   "metadata": {},
   "outputs": [],
   "source": [
    "# MNEST\n",
    "# Cipher-10\n",
    "# Cipher-100"
   ]
  },
  {
   "cell_type": "code",
   "execution_count": null,
   "id": "1912c4aa",
   "metadata": {},
   "outputs": [],
   "source": [
    "# game player agent has a state st\n",
    "# state=position\n",
    "# st+1 reward\n",
    "# st-1 penalty"
   ]
  },
  {
   "cell_type": "code",
   "execution_count": null,
   "id": "c481997b",
   "metadata": {},
   "outputs": [],
   "source": [
    "# score is reward\n",
    "# sr belongs to S\n",
    "# S all the state agent can occupy\n",
    "# {a1,a2,a3.....,an}\n",
    "# "
   ]
  },
  {
   "cell_type": "code",
   "execution_count": null,
   "id": "bd5e0ac6",
   "metadata": {},
   "outputs": [],
   "source": [
    "# branching from root to branches of data is a\n",
    "# pipeline "
   ]
  },
  {
   "cell_type": "code",
   "execution_count": null,
   "id": "20bdbd7f",
   "metadata": {},
   "outputs": [],
   "source": [
    "# Data Collection\n",
    "# collecting data\n",
    "# web scraping\n",
    "# data labeling\n"
   ]
  },
  {
   "cell_type": "code",
   "execution_count": null,
   "id": "d45141e6",
   "metadata": {},
   "outputs": [],
   "source": [
    "# m/f  0/1  encoding"
   ]
  },
  {
   "cell_type": "code",
   "execution_count": null,
   "id": "2f08aa88",
   "metadata": {},
   "outputs": [],
   "source": [
    "# feature engineering taking out a feature from something for your use\n",
    "# from a multidimisional data you take out usefull data from it\n"
   ]
  },
  {
   "cell_type": "code",
   "execution_count": null,
   "id": "54bc6449",
   "metadata": {},
   "outputs": [],
   "source": [
    "# good accuracy?90%+\n",
    "do pipeline on a question"
   ]
  },
  {
   "cell_type": "code",
   "execution_count": null,
   "metadata": {},
   "outputs": [],
   "source": [
    "# purpose oriented"
   ]
  },
  {
   "cell_type": "code",
   "execution_count": null,
   "metadata": {},
   "outputs": [],
   "source": [
    "# monitor model\n",
    "# freeze model\n",
    "# retraining"
   ]
  },
  {
   "cell_type": "code",
   "execution_count": null,
   "metadata": {},
   "outputs": [],
   "source": [
    "# data engineers\n",
    "# analyst\n",
    "# scientist\n",
    "# machine learning engineeer\n",
    "# mlops"
   ]
  },
  {
   "cell_type": "code",
   "execution_count": null,
   "metadata": {},
   "outputs": [],
   "source": [
    "# -----------------------------------\n",
    "# supervised\n",
    "#     classification-------categorising--label cl\n",
    "            # yes\n",
    "            # no\n",
    "    # regression\n",
    "            # continuous values predict kai\n",
    "        #     infinite number of option in a range\n",
    "                # model koi bhi chooose kar sakta hai\n",
    "                # numerical classification\n",
    "# first requirement labelled data\n",
    "# hypothesis function = model\n",
    "# loss function\n",
    "# cost function\n",
    "# optimizer"
   ]
  },
  {
   "cell_type": "code",
   "execution_count": null,
   "metadata": {},
   "outputs": [],
   "source": [
    "# main diff btw supervise unsupervised is data is labelled or nor\n"
   ]
  },
  {
   "cell_type": "code",
   "execution_count": null,
   "metadata": {},
   "outputs": [],
   "source": [
    "# amazon mechinical task"
   ]
  },
  {
   "cell_type": "code",
   "execution_count": null,
   "metadata": {},
   "outputs": [],
   "source": [
    "# 80% to train\n",
    "#     some of it to train\n",
    "#     rest to validate\n",
    "# 20% to test\n"
   ]
  },
  {
   "cell_type": "code",
   "execution_count": null,
   "metadata": {},
   "outputs": [],
   "source": [
    "# spliting in tensor flow \n",
    "# dataset.fit(validation_split=.2)\n"
   ]
  },
  {
   "cell_type": "code",
   "execution_count": null,
   "metadata": {},
   "outputs": [],
   "source": [
    "# performance evaluation matrics\n",
    "# against test set \n",
    "# according to some standards\n",
    "# subjective is variable"
   ]
  },
  {
   "cell_type": "code",
   "execution_count": null,
   "metadata": {},
   "outputs": [],
   "source": [
    "# classification has discrete classes\n"
   ]
  },
  {
   "cell_type": "code",
   "execution_count": null,
   "metadata": {},
   "outputs": [],
   "source": [
    "# cost/loss function gives us differences between actual and predicted data\n"
   ]
  },
  {
   "cell_type": "code",
   "execution_count": null,
   "metadata": {},
   "outputs": [],
   "source": [
    "# optimization problem\n",
    "# model perfromance in terms of acuracy\n",
    "\n",
    "# optimer is function mathematical \n",
    "# it improves performance of model\n",
    "# by changing hyper parameters\n",
    "# adjusting nobes of model that control its output\n"
   ]
  },
  {
   "cell_type": "code",
   "execution_count": null,
   "metadata": {},
   "outputs": [],
   "source": [
    "# univariate linear regression\n",
    "    # one variable = univariate -- one column\n",
    "    # multi variable = multivariate -- multiple columns\n",
    "\n",
    "    # one x value\n",
    "    # linear function mx+b -- hypothesis function\n",
    "    # m1x1 + m2x2 + ....+mnxn +b\n",
    "    \n",
    "    "
   ]
  },
  {
   "cell_type": "code",
   "execution_count": null,
   "metadata": {},
   "outputs": [],
   "source": []
  },
  {
   "cell_type": "code",
   "execution_count": null,
   "metadata": {},
   "outputs": [],
   "source": []
  },
  {
   "cell_type": "code",
   "execution_count": null,
   "metadata": {},
   "outputs": [],
   "source": []
  },
  {
   "cell_type": "code",
   "execution_count": null,
   "id": "08bfe61d",
   "metadata": {},
   "outputs": [],
   "source": []
  },
  {
   "cell_type": "code",
   "execution_count": null,
   "metadata": {},
   "outputs": [],
   "source": []
  },
  {
   "cell_type": "code",
   "execution_count": null,
   "metadata": {},
   "outputs": [],
   "source": []
  }
 ],
 "metadata": {
  "language_info": {
   "name": "python"
  }
 },
 "nbformat": 4,
 "nbformat_minor": 5
}
