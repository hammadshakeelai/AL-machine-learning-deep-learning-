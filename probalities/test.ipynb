{
 "cells": [
  {
   "cell_type": "code",
   "execution_count": 3,
   "id": "16016d48",
   "metadata": {},
   "outputs": [
    {
     "data": {
      "text/plain": [
       "<function pandas.core.reshape.merge.merge(left: 'DataFrame | Series', right: 'DataFrame | Series', how: 'MergeHow' = 'inner', on: 'IndexLabel | AnyArrayLike | None' = None, left_on: 'IndexLabel | AnyArrayLike | None' = None, right_on: 'IndexLabel | AnyArrayLike | None' = None, left_index: 'bool' = False, right_index: 'bool' = False, sort: 'bool' = False, suffixes: 'Suffixes' = ('_x', '_y'), copy: 'bool | None' = None, indicator: 'str | bool' = False, validate: 'str | None' = None) -> 'DataFrame'>"
      ]
     },
     "execution_count": 3,
     "metadata": {},
     "output_type": "execute_result"
    }
   ],
   "source": [
    "import pandas as pd\n",
    "pd.merge#no column indexes \n",
    "# same result as join()"
   ]
  },
  {
   "cell_type": "code",
   "execution_count": null,
   "id": "034751e4",
   "metadata": {},
   "outputs": [],
   "source": [
    "pd.join()#index based"
   ]
  },
  {
   "cell_type": "code",
   "execution_count": null,
   "id": "559a1228",
   "metadata": {},
   "outputs": [],
   "source": [
    "#Inner Join -intersection for inner (AnB)\n",
    "#Left Join -(A<=B) complete A Tables\n",
    "#Right Join -(A=>B) complete B Tables\n",
    "#Outer Join -(AuB)\n",
    "#Cross Join -"
   ]
  },
  {
   "cell_type": "code",
   "execution_count": null,
   "id": "e6ca0840",
   "metadata": {},
   "outputs": [],
   "source": [
    "\n",
    "pd.merge(df1,df2,on=\"ID\",how=\"outer\")\n",
    "pd.merge(df1,df2,on=\"ID\",how=\"inner\")\n",
    "pd.merge(df1,df2,on=\"ID\",how=\"left\")\n",
    "pd.merge(df1,df2,on=\"ID\",how=\"right\")"
   ]
  },
  {
   "cell_type": "code",
   "execution_count": null,
   "id": "8bf7fd1e",
   "metadata": {},
   "outputs": [],
   "source": [
    "pd.merge(df1,df2,left_on='ID1',right_on='ID2',how='inner')"
   ]
  },
  {
   "cell_type": "code",
   "execution_count": null,
   "id": "06079b2e",
   "metadata": {},
   "outputs": [],
   "source": [
    "pd.merge(df1,df2,left_on='ID1',right_on='ID2',how='inner',suffixes=['L','R'])"
   ]
  },
  {
   "cell_type": "code",
   "execution_count": null,
   "id": "79e77088",
   "metadata": {},
   "outputs": [],
   "source": [
    "pd.merge(df1,df2,left_on='ID1',right_on='ID2',how='inner',suffixes=['L','R'],\n",
    "         indicator=True)"
   ]
  },
  {
   "cell_type": "code",
   "execution_count": null,
   "id": "cd48c045",
   "metadata": {},
   "outputs": [],
   "source": [
    "df1.join(df2,how='inner',lsuffix='L',rsuffix='R',)#by default it matches index wise"
   ]
  },
  {
   "cell_type": "code",
   "execution_count": null,
   "id": "6561a9ad",
   "metadata": {},
   "outputs": [],
   "source": [
    "df1.set_index('ID1',inplace=True)\n",
    "df2.set_index('ID1',inplace=True)\n",
    "f1.join(df2,how='inner',lsuffix='L',rsuffix='R',)"
   ]
  },
  {
   "cell_type": "code",
   "execution_count": null,
   "id": "a501d965",
   "metadata": {},
   "outputs": [],
   "source": [
    "df1.drop('index',axis=1,inplace=True)"
   ]
  },
  {
   "cell_type": "code",
   "execution_count": null,
   "id": "8f15343c",
   "metadata": {},
   "outputs": [],
   "source": [
    "df1.join(df2,how='inner',lsuffix='L',rsuffix='R',on='ID1')#df2 use index and 'id1' for df1"
   ]
  },
  {
   "cell_type": "code",
   "execution_count": null,
   "id": "f0baef5f",
   "metadata": {},
   "outputs": [],
   "source": [
    "# merge by coolumns\n",
    "# concatenate for rows joining\n",
    "# pd.concat\n",
    "# prepend\n",
    "pd.concat([df1,df2])#rows join /axis default 0"
   ]
  },
  {
   "cell_type": "code",
   "execution_count": null,
   "id": "1650d50e",
   "metadata": {},
   "outputs": [],
   "source": [
    "pd.concat([df1,df2,df3,df4,df1],axis=1)#columns merge\n",
    "# columns can be same named\n",
    "# print them all when df1['Name']"
   ]
  },
  {
   "cell_type": "code",
   "execution_count": null,
   "id": "5f42d21c",
   "metadata": {},
   "outputs": [],
   "source": [
    "pd.concat([df1,df2],axis=0,ignore_index=True)"
   ]
  },
  {
   "cell_type": "code",
   "execution_count": null,
   "id": "ecb9d528",
   "metadata": {},
   "outputs": [],
   "source": [
    "df1.combine_first(df2)"
   ]
  },
  {
   "cell_type": "code",
   "execution_count": null,
   "id": "c3e8701b",
   "metadata": {},
   "outputs": [],
   "source": [
    "data.groupby(\"department\").sum()"
   ]
  },
  {
   "cell_type": "code",
   "execution_count": null,
   "id": "4874eb4a",
   "metadata": {},
   "outputs": [],
   "source": [
    "data.groupby(\"department\")[['Age','Salary','Years of Experience']].mean()"
   ]
  },
  {
   "cell_type": "code",
   "execution_count": null,
   "id": "54c4ccdd",
   "metadata": {},
   "outputs": [],
   "source": [
    "data.groupby(\"department\").count()#count rows of that object"
   ]
  },
  {
   "cell_type": "code",
   "execution_count": null,
   "id": "b2e93fa1",
   "metadata": {},
   "outputs": [],
   "source": [
    "data.groupby(\"department\").min()#applys on each column"
   ]
  },
  {
   "cell_type": "code",
   "execution_count": null,
   "id": "8e5cf622",
   "metadata": {},
   "outputs": [],
   "source": [
    "data.groupby(\"department\").max()#applys on each column"
   ]
  },
  {
   "cell_type": "code",
   "execution_count": null,
   "id": "7630d88b",
   "metadata": {},
   "outputs": [],
   "source": [
    "data.groupby(\"department\")['Salary'].agg(['sum','min','max'])\n",
    "data.groupby(\"department\")['Salary'].agg(['sum','min','max']).columns"
   ]
  },
  {
   "cell_type": "code",
   "execution_count": null,
   "id": "03446678",
   "metadata": {},
   "outputs": [],
   "source": [
    "#EDA  - EXPLORATORY DATA ANALYST\n",
    "# SUMMARIZE DATA\n",
    "# COUNT USERS\n"
   ]
  },
  {
   "cell_type": "code",
   "execution_count": null,
   "id": "3882cb01",
   "metadata": {},
   "outputs": [],
   "source": [
    "sales = pd.read_csv('sales.csv')\n",
    "sales.head()\n"
   ]
  },
  {
   "cell_type": "code",
   "execution_count": null,
   "id": "a7162c42",
   "metadata": {},
   "outputs": [],
   "source": [
    "sales.groupby('region').sum().sort_values('sales',ascending=True)"
   ]
  },
  {
   "cell_type": "code",
   "execution_count": null,
   "id": "aa2700c3",
   "metadata": {},
   "outputs": [],
   "source": [
    "sales.groupby('medium').sum()"
   ]
  },
  {
   "cell_type": "code",
   "execution_count": null,
   "id": "c00be2bf",
   "metadata": {},
   "outputs": [
    {
     "data": {
      "text/plain": [
       "['Adult', 'Adult', 'Teen', 'Teen', 'Senior', NaN, 'Senior']\n",
       "Categories (3, object): ['Teen' < 'Adult' < 'Senior']"
      ]
     },
     "execution_count": 5,
     "metadata": {},
     "output_type": "execute_result"
    }
   ],
   "source": [
    "ages = [35,34,15,18,95,99,40]\n",
    "bins=[0,18,35,95]\n",
    "labels=['Teen','Adult','Senior']\n",
    "pd.cut(ages,bins=bins,labels=labels,right=True)"
   ]
  },
  {
   "cell_type": "code",
   "execution_count": null,
   "id": "56936c5a",
   "metadata": {},
   "outputs": [],
   "source": [
    "sales.groupby(\"performance\").sum()"
   ]
  },
  {
   "cell_type": "code",
   "execution_count": null,
   "id": "7d6780ff",
   "metadata": {},
   "outputs": [],
   "source": [
    "bins=[ 0 ,100,300,500]\n",
    "labels=[poor good excellent]\n",
    "\n",
    "pd.cut(sales['sales'],bins=bins,labels=labels,right=True)"
   ]
  },
  {
   "cell_type": "code",
   "execution_count": null,
   "id": "fe2c496d",
   "metadata": {},
   "outputs": [],
   "source": [
    "pd.qcut(sales['sales'],q=4).values.categories\n"
   ]
  },
  {
   "cell_type": "code",
   "execution_count": null,
   "id": "15a813c4",
   "metadata": {},
   "outputs": [],
   "source": [
    "pd.qcut(sales['sales'],q=4).values[0].left\n"
   ]
  },
  {
   "cell_type": "code",
   "execution_count": null,
   "id": "26bb8249",
   "metadata": {},
   "outputs": [],
   "source": [
    "for r in pd.qcut(sales['sales'],q=4).values:\n",
    "    print(f\"{r.left} - {r.right}\")\n"
   ]
  },
  {
   "cell_type": "code",
   "execution_count": null,
   "id": "6a4e4d35",
   "metadata": {},
   "outputs": [],
   "source": [
    "sales.to_csv(\"sales.csv\",\",\",index=False)"
   ]
  },
  {
   "cell_type": "code",
   "execution_count": null,
   "id": "d88995c8",
   "metadata": {},
   "outputs": [],
   "source": [
    "import matplotlib.pyplot as plt\n",
    "%matplotlib inline#give it in the note book\n",
    "sales.plot(x='region',y='sales',kind='line')"
   ]
  },
  {
   "cell_type": "code",
   "execution_count": null,
   "id": "77d96137",
   "metadata": {},
   "outputs": [],
   "source": [
    "sales.plot(x='region',y='sales',kind='scatter')"
   ]
  },
  {
   "cell_type": "code",
   "execution_count": null,
   "id": "a3648c2d",
   "metadata": {},
   "outputs": [],
   "source": [
    "sales.plot(x='region',y='sales',kind='hist',title='')"
   ]
  },
  {
   "cell_type": "code",
   "execution_count": null,
   "id": "16539580",
   "metadata": {},
   "outputs": [],
   "source": [
    "%matplotlib auto#esle show as python open close terminal pictures"
   ]
  }
 ],
 "metadata": {
  "kernelspec": {
   "display_name": "Python 3",
   "language": "python",
   "name": "python3"
  },
  "language_info": {
   "codemirror_mode": {
    "name": "ipython",
    "version": 3
   },
   "file_extension": ".py",
   "mimetype": "text/x-python",
   "name": "python",
   "nbconvert_exporter": "python",
   "pygments_lexer": "ipython3",
   "version": "3.13.0"
  }
 },
 "nbformat": 4,
 "nbformat_minor": 5
}
