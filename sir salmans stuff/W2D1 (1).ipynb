{
 "cells": [
  {
   "cell_type": "code",
   "execution_count": 1,
   "id": "3fbeec04-7151-41ab-b899-63ad667415b8",
   "metadata": {
    "tags": []
   },
   "outputs": [
    {
     "data": {
      "text/plain": [
       "'this is some random text. it is to be divided into sentences. and this is absolutely wrong statement'"
      ]
     },
     "execution_count": 1,
     "metadata": {},
     "output_type": "execute_result"
    }
   ],
   "source": [
    "text = \"this is some random text. it is to be divided into sentences. and this is absolutely wrong statement\"\n",
    "text"
   ]
  },
  {
   "cell_type": "code",
   "execution_count": 6,
   "id": "d62f3e1c-2282-4462-9bd3-ec53f10eff73",
   "metadata": {
    "tags": []
   },
   "outputs": [],
   "source": [
    "sentences = text.split('.')"
   ]
  },
  {
   "cell_type": "code",
   "execution_count": 7,
   "id": "2aa8049f-5b16-4b46-aef3-3fdad8b4e6a7",
   "metadata": {
    "tags": []
   },
   "outputs": [
    {
     "data": {
      "text/plain": [
       "['this is some random text',\n",
       " ' it is to be divided into sentences',\n",
       " ' and this is absolutely wrong statement']"
      ]
     },
     "execution_count": 7,
     "metadata": {},
     "output_type": "execute_result"
    }
   ],
   "source": [
    "sentences"
   ]
  },
  {
   "cell_type": "code",
   "execution_count": 11,
   "id": "8e2b0591-2932-41db-a956-5c7726dc53f4",
   "metadata": {
    "tags": []
   },
   "outputs": [
    {
     "data": {
      "text/plain": [
       "'this is some random text'"
      ]
     },
     "execution_count": 11,
     "metadata": {},
     "output_type": "execute_result"
    }
   ],
   "source": [
    "sentences[0]"
   ]
  },
  {
   "cell_type": "code",
   "execution_count": 18,
   "id": "8946f2ad-dc5f-4989-8107-7c9477d0d967",
   "metadata": {
    "tags": []
   },
   "outputs": [
    {
     "name": "stdout",
     "output_type": "stream",
     "text": [
      "this is some random text"
     ]
    }
   ],
   "source": [
    "for ch in sentences[0]:\n",
    "    print(ch, end='')"
   ]
  },
  {
   "cell_type": "code",
   "execution_count": 24,
   "id": "a6a7dfc3-9ac2-43d3-ba96-64be717f0338",
   "metadata": {
    "tags": []
   },
   "outputs": [
    {
     "data": {
      "text/plain": [
       "[0, 2, 4]"
      ]
     },
     "execution_count": 24,
     "metadata": {},
     "output_type": "execute_result"
    }
   ],
   "source": [
    "list(range(0, 5, 2))"
   ]
  },
  {
   "cell_type": "code",
   "execution_count": 27,
   "id": "3f068186-7e2f-4e8d-a3f5-d49c19df462a",
   "metadata": {
    "tags": []
   },
   "outputs": [],
   "source": [
    "values = []\n",
    "for i in range(0, 5, 2):\n",
    "    values.append(i**3)"
   ]
  },
  {
   "cell_type": "code",
   "execution_count": 28,
   "id": "42f25814-9a67-4051-93f8-d101e743ff33",
   "metadata": {
    "tags": []
   },
   "outputs": [
    {
     "data": {
      "text/plain": [
       "[0, 8, 64]"
      ]
     },
     "execution_count": 28,
     "metadata": {},
     "output_type": "execute_result"
    }
   ],
   "source": [
    "range("
   ]
  },
  {
   "cell_type": "code",
   "execution_count": 5,
   "id": "066892cb-c922-4467-9a12-9e48fc2101fa",
   "metadata": {},
   "outputs": [],
   "source": [
    "for i in range(10):\n",
    "    break\n",
    "    print(i)"
   ]
  },
  {
   "cell_type": "code",
   "execution_count": 6,
   "id": "7bb9596e-ad76-45e4-ba9f-d19c586154b2",
   "metadata": {
    "collapsed": true,
    "jupyter": {
     "outputs_hidden": true
    },
    "tags": []
   },
   "outputs": [
    {
     "name": "stdout",
     "output_type": "stream",
     "text": [
      "y =  0\n",
      "y =  1\n",
      "y =  2\n",
      "j =  0\n",
      "y =  0\n",
      "y =  1\n",
      "y =  2\n",
      "j =  1\n",
      "i =  0\n",
      "y =  0\n",
      "y =  1\n",
      "y =  2\n",
      "j =  0\n",
      "y =  0\n",
      "y =  1\n",
      "y =  2\n",
      "j =  1\n",
      "i =  1\n",
      "y =  0\n",
      "y =  1\n",
      "y =  2\n",
      "j =  0\n",
      "y =  0\n",
      "y =  1\n",
      "y =  2\n",
      "j =  1\n",
      "i =  2\n"
     ]
    }
   ],
   "source": [
    "for i in range(3):\n",
    "    for j in range(2):\n",
    "        for y in range(3):\n",
    "            y = y + 1\n",
    "            result = y + 1\n",
    "            y = y + 1\n",
    "            result = y + 1\n",
    "            y = y + 1\n",
    "            result = y + 1\n",
    "            print(\"y = \", y)\n",
    "        j = j + 1\n",
    "        result = j + 1\n",
    "        print(\"j = \", j)\n",
    "    print(\"i = \", i)"
   ]
  },
  {
   "cell_type": "code",
   "execution_count": 3,
   "id": "e1ed6b55-a256-45cc-8340-c5b57ec4523b",
   "metadata": {},
   "outputs": [],
   "source": [
    "numbers = [1, 2,3,4,5,5]"
   ]
  },
  {
   "cell_type": "code",
   "execution_count": 12,
   "id": "32656481-f32e-4cce-9f41-dcb569a4ef43",
   "metadata": {
    "tags": []
   },
   "outputs": [
    {
     "name": "stdin",
     "output_type": "stream",
     "text": [
      "enter a number 5\n",
      "enter a number 4\n",
      "enter a number 5\n",
      "enter a number 4\n",
      "enter a number 2\n"
     ]
    }
   ],
   "source": [
    "for i in range(5):\n",
    "    numbers.append(int(input(\"enter a number\")))"
   ]
  },
  {
   "cell_type": "code",
   "execution_count": 17,
   "id": "3007978d-3130-40e3-89f2-fcff132a6935",
   "metadata": {
    "tags": []
   },
   "outputs": [],
   "source": [
    "numbers = [1,2,3,4]"
   ]
  },
  {
   "cell_type": "code",
   "execution_count": 20,
   "id": "e07ce17f-38a2-4b90-ac20-34eaefebe903",
   "metadata": {
    "tags": []
   },
   "outputs": [
    {
     "data": {
      "text/plain": [
       "['word', 'captial', 'something', 'asdlfkj']"
      ]
     },
     "execution_count": 20,
     "metadata": {},
     "output_type": "execute_result"
    }
   ],
   "source": [
    "[x.lower() for x in [\"WORD\", \"CAPTIAL\", \"SOMETHING\", \"ASDLFKJ\"]]"
   ]
  },
  {
   "cell_type": "code",
   "execution_count": 22,
   "id": "261c1428-334f-4208-b63d-98dff3e4c358",
   "metadata": {
    "tags": []
   },
   "outputs": [
    {
     "data": {
      "text/plain": [
       "'Python is powerful and simple'"
      ]
     },
     "execution_count": 22,
     "metadata": {},
     "output_type": "execute_result"
    }
   ],
   "source": [
    "sentence = \"Python is powerful and simple\"\n",
    "sentence"
   ]
  },
  {
   "cell_type": "code",
   "execution_count": 23,
   "id": "4ddf9f51-edb6-4c55-a5bd-7680e89d6300",
   "metadata": {
    "tags": []
   },
   "outputs": [
    {
     "data": {
      "text/plain": [
       "['Python', 'is', 'powerful', 'and', 'simple']"
      ]
     },
     "execution_count": 23,
     "metadata": {},
     "output_type": "execute_result"
    }
   ],
   "source": [
    "words = sentence.split()\n",
    "words"
   ]
  },
  {
   "cell_type": "code",
   "execution_count": 41,
   "id": "716e005e-926d-4d67-a670-682cd6e1bffe",
   "metadata": {
    "tags": []
   },
   "outputs": [
    {
     "name": "stdout",
     "output_type": "stream",
     "text": [
      "[['P', 'y', 't', 'h', 'o', 'n'], ['i', 's'], ['p', 'o', 'w', 'e', 'r', 'f', 'u', 'l'], ['a', 'n', 'd'], ['s', 'i', 'm', 'p', 'l', 'e']]\n"
     ]
    }
   ],
   "source": [
    "word_characters = []\n",
    "for word in words:   \n",
    "    characters = []\n",
    "    for ch in word:\n",
    "        characters.append(ch)\n",
    "    word_characters.append(characters)\n",
    "print(word_characters)"
   ]
  },
  {
   "cell_type": "code",
   "execution_count": 44,
   "id": "f86910f6-ab22-4cc6-b31e-db0e692a6da4",
   "metadata": {
    "tags": []
   },
   "outputs": [
    {
     "data": {
      "text/plain": [
       "[['P', 'y', 't', 'h', 'o', 'n'],\n",
       " ['i', 's'],\n",
       " ['p', 'o', 'w', 'e', 'r', 'f', 'u', 'l'],\n",
       " ['a', 'n', 'd'],\n",
       " ['s', 'i', 'm', 'p', 'l', 'e']]"
      ]
     },
     "execution_count": 44,
     "metadata": {},
     "output_type": "execute_result"
    }
   ],
   "source": [
    "word_characters"
   ]
  },
  {
   "cell_type": "code",
   "execution_count": 43,
   "id": "1d369165-bf54-4180-9c42-8dd0d324d0c2",
   "metadata": {
    "tags": []
   },
   "outputs": [
    {
     "data": {
      "text/plain": [
       "[['P', 'y', 't', 'h', 'o', 'n'],\n",
       " ['i', 's'],\n",
       " ['p', 'o', 'w', 'e', 'r', 'f', 'u', 'l'],\n",
       " ['a', 'n', 'd'],\n",
       " ['s', 'i', 'm', 'p', 'l', 'e']]"
      ]
     },
     "execution_count": 43,
     "metadata": {},
     "output_type": "execute_result"
    }
   ],
   "source": [
    "[list(w) for w in words]"
   ]
  },
  {
   "cell_type": "code",
   "execution_count": 36,
   "id": "0dacf02b-fe56-4e88-9807-50a50b38779b",
   "metadata": {
    "tags": []
   },
   "outputs": [
    {
     "data": {
      "text/plain": [
       "['P', 'y', 't', 'h', 'o', 'n']"
      ]
     },
     "execution_count": 36,
     "metadata": {},
     "output_type": "execute_result"
    }
   ],
   "source": [
    "list(words[0])"
   ]
  },
  {
   "cell_type": "code",
   "execution_count": 24,
   "id": "beb192aa-d6c2-4706-98f6-fa1da159ccef",
   "metadata": {
    "tags": []
   },
   "outputs": [
    {
     "data": {
      "text/plain": [
       "['is', 'and']"
      ]
     },
     "execution_count": 24,
     "metadata": {},
     "output_type": "execute_result"
    }
   ],
   "source": [
    "short_words = [w for w in words if len(w) <= 4]\n",
    "short_words"
   ]
  },
  {
   "cell_type": "code",
   "execution_count": 25,
   "id": "b9a7645f-3728-4020-ab7a-e6931858d258",
   "metadata": {
    "tags": []
   },
   "outputs": [],
   "source": [
    "short_words = []\n",
    "for w in words:\n",
    "    if len(w) <= 4:\n",
    "        short_words.append(w)"
   ]
  },
  {
   "cell_type": "code",
   "execution_count": 59,
   "id": "3858cbb7-7f37-47ec-8f81-d134dd9d1671",
   "metadata": {
    "tags": []
   },
   "outputs": [
    {
     "data": {
      "text/plain": [
       "['Python', 'is', 'powerful', 'and', 'simple']"
      ]
     },
     "execution_count": 59,
     "metadata": {},
     "output_type": "execute_result"
    }
   ],
   "source": [
    "words"
   ]
  },
  {
   "cell_type": "code",
   "execution_count": 60,
   "id": "a3512545-d26d-4421-ac2c-9005f8375567",
   "metadata": {
    "tags": []
   },
   "outputs": [],
   "source": [
    "words_iter = iter(words)"
   ]
  },
  {
   "cell_type": "code",
   "execution_count": 61,
   "id": "3174f5e8-06e3-4f1b-88a6-d8bc380204b7",
   "metadata": {
    "tags": []
   },
   "outputs": [
    {
     "data": {
      "text/plain": [
       "list_iterator"
      ]
     },
     "execution_count": 61,
     "metadata": {},
     "output_type": "execute_result"
    }
   ],
   "source": [
    "type(words_iter)"
   ]
  },
  {
   "cell_type": "code",
   "execution_count": 67,
   "id": "a109a5a7-3748-4749-a375-0e0443831d25",
   "metadata": {
    "tags": []
   },
   "outputs": [
    {
     "ename": "StopIteration",
     "evalue": "",
     "output_type": "error",
     "traceback": [
      "\u001b[0;31m---------------------------------------------------------------------------\u001b[0m",
      "\u001b[0;31mStopIteration\u001b[0m                             Traceback (most recent call last)",
      "Cell \u001b[0;32mIn[67], line 1\u001b[0m\n\u001b[0;32m----> 1\u001b[0m \u001b[38;5;28mnext\u001b[39m(words_iter)\n",
      "\u001b[0;31mStopIteration\u001b[0m: "
     ]
    }
   ],
   "source": [
    "next(words_iter)"
   ]
  },
  {
   "cell_type": "code",
   "execution_count": 51,
   "id": "1c0ea242-93cd-457a-91e7-ef1759524f66",
   "metadata": {
    "tags": []
   },
   "outputs": [
    {
     "data": {
      "text/plain": [
       "'is'"
      ]
     },
     "execution_count": 51,
     "metadata": {},
     "output_type": "execute_result"
    }
   ],
   "source": [
    "next(words_iter)"
   ]
  },
  {
   "cell_type": "code",
   "execution_count": 54,
   "id": "0b6096bf-5cd4-400a-8472-b03e09fb4958",
   "metadata": {
    "tags": []
   },
   "outputs": [
    {
     "ename": "StopIteration",
     "evalue": "",
     "output_type": "error",
     "traceback": [
      "\u001b[0;31m---------------------------------------------------------------------------\u001b[0m",
      "\u001b[0;31mStopIteration\u001b[0m                             Traceback (most recent call last)",
      "Cell \u001b[0;32mIn[54], line 1\u001b[0m\n\u001b[0;32m----> 1\u001b[0m \u001b[38;5;28mnext\u001b[39m(words_iter)\n",
      "\u001b[0;31mStopIteration\u001b[0m: "
     ]
    }
   ],
   "source": [
    "next(words_iter)"
   ]
  },
  {
   "cell_type": "code",
   "execution_count": 121,
   "id": "10f73308-b5b3-4282-a168-666efca75b0b",
   "metadata": {
    "tags": []
   },
   "outputs": [],
   "source": [
    "class myiterator:\n",
    "    def __init__(self, paths):\n",
    "        self.paths = paths\n",
    "        self.index = -1\n",
    "    def __next__(self):\n",
    "        self.index += 1\n",
    "        return \"basepath:/\" + self.paths[self.index]"
   ]
  },
  {
   "cell_type": "code",
   "execution_count": 122,
   "id": "6e17ce98-aadf-4cf4-8339-0a3740905fd7",
   "metadata": {
    "tags": []
   },
   "outputs": [],
   "source": [
    "i = myiterator([\"1.jpg\", \"2.jpg\", \"3.jpg\"])"
   ]
  },
  {
   "cell_type": "code",
   "execution_count": 123,
   "id": "bda5888a-4790-47d6-8d66-53e1cb4d3c94",
   "metadata": {
    "tags": []
   },
   "outputs": [
    {
     "data": {
      "text/plain": [
       "'basepath:/1.jpg'"
      ]
     },
     "execution_count": 123,
     "metadata": {},
     "output_type": "execute_result"
    }
   ],
   "source": [
    "next(i)"
   ]
  },
  {
   "cell_type": "code",
   "execution_count": 124,
   "id": "4db2f010-3bdb-43f2-bcd8-0efe512f83fa",
   "metadata": {
    "tags": []
   },
   "outputs": [
    {
     "data": {
      "text/plain": [
       "'basepath:/2.jpg'"
      ]
     },
     "execution_count": 124,
     "metadata": {},
     "output_type": "execute_result"
    }
   ],
   "source": [
    "i.__next__()"
   ]
  },
  {
   "cell_type": "markdown",
   "id": "89d59dc7-e92b-4ba0-8396-995f3e93beca",
   "metadata": {},
   "source": [
    "### Week 2 Day 1"
   ]
  },
  {
   "cell_type": "code",
   "execution_count": 12,
   "id": "b5931775-3cc6-4b35-94f8-d348fa038e87",
   "metadata": {
    "tags": []
   },
   "outputs": [],
   "source": [
    "def ask_input():\n",
    "    user_input = []\n",
    "    for i in range(3):\n",
    "        user_input.append(input(\"enter a word in english\"))\n",
    "    return user_input\n"
   ]
  },
  {
   "cell_type": "code",
   "execution_count": 13,
   "id": "458408e9-ac38-4bd4-974e-8fadba494b41",
   "metadata": {
    "tags": []
   },
   "outputs": [
    {
     "name": "stdin",
     "output_type": "stream",
     "text": [
      "enter a word in english word1\n",
      "enter a word in english word23\n",
      "enter a word in english word2\n"
     ]
    }
   ],
   "source": [
    "x = ask_input()"
   ]
  },
  {
   "cell_type": "code",
   "execution_count": 52,
   "id": "2e3bb4fe-68ad-4faa-b166-c13eb5ada4c3",
   "metadata": {
    "tags": []
   },
   "outputs": [],
   "source": [
    "def addition(x1=9, x3=30, x2=10):\n",
    "    return x1 + x3 + x2"
   ]
  },
  {
   "cell_type": "code",
   "execution_count": 59,
   "id": "0ce078f6-0306-4e5b-b8e5-d043034f70af",
   "metadata": {
    "tags": []
   },
   "outputs": [
    {
     "data": {
      "text/plain": [
       "49"
      ]
     },
     "execution_count": 59,
     "metadata": {},
     "output_type": "execute_result"
    }
   ],
   "source": [
    "addition(9, x2=455, x3=.4)"
   ]
  },
  {
   "cell_type": "code",
   "execution_count": 81,
   "id": "a0b27719-96b2-4027-ac92-bafa4c56385b",
   "metadata": {
    "tags": []
   },
   "outputs": [],
   "source": [
    "#variable length arguments\n",
    "#assignment **kwargs\n",
    "def Addition(x1, x2, *args, **kwargs):\n",
    "    print(args)\n",
    "    print(type(args))\n",
    "    print('kwargs', kwargs)\n",
    "    print(type(kwargs))\n",
    "    print(f\"hello my name is {kwargs['name']}\")\n",
    "    print(kwargs.keys())\n",
    "    return sum(args)"
   ]
  },
  {
   "cell_type": "code",
   "execution_count": 82,
   "id": "6978c69b-a952-4027-b025-f5c00a538c73",
   "metadata": {
    "tags": []
   },
   "outputs": [
    {
     "name": "stdout",
     "output_type": "stream",
     "text": [
      "(3, 4, 5, 6, 8, 9, 10)\n",
      "<class 'tuple'>\n",
      "kwargs {'name': 'james', 'job': 'Accountant'}\n",
      "<class 'dict'>\n",
      "hello my name is james\n",
      "dict_keys(['name', 'job'])\n"
     ]
    },
    {
     "data": {
      "text/plain": [
       "45"
      ]
     },
     "execution_count": 82,
     "metadata": {},
     "output_type": "execute_result"
    }
   ],
   "source": [
    "Addition(1, 2,3,4,5,6,8,9,10, name=\"james\", job=\"Accountant\")"
   ]
  },
  {
   "cell_type": "code",
   "execution_count": 68,
   "id": "aafca37a-62f8-42a4-a747-51bf230ef9ec",
   "metadata": {
    "tags": []
   },
   "outputs": [
    {
     "name": "stdout",
     "output_type": "stream",
     "text": [
      "(3,)\n",
      "<class 'tuple'>\n"
     ]
    },
    {
     "data": {
      "text/plain": [
       "3"
      ]
     },
     "execution_count": 68,
     "metadata": {},
     "output_type": "execute_result"
    }
   ],
   "source": [
    "Addition(1,2,3)"
   ]
  },
  {
   "cell_type": "code",
   "execution_count": 63,
   "id": "422f4410-2723-466f-b4cc-2643a17cbd64",
   "metadata": {
    "tags": []
   },
   "outputs": [
    {
     "name": "stdout",
     "output_type": "stream",
     "text": [
      "(987, 34, 34, 2, 34, 324, 32, 534, 6, 345, 34, 5, 345, 34, 5, 345)\n"
     ]
    },
    {
     "data": {
      "text/plain": [
       "3100"
      ]
     },
     "execution_count": 63,
     "metadata": {},
     "output_type": "execute_result"
    }
   ],
   "source": [
    "Addition(987,34,34,2,34,324,32,534,6,345,34,5,345,34,5,345)"
   ]
  },
  {
   "cell_type": "code",
   "execution_count": 30,
   "id": "540d7591-3bfe-481d-8182-5a207f419224",
   "metadata": {
    "tags": []
   },
   "outputs": [
    {
     "name": "stdin",
     "output_type": "stream",
     "text": [
      "enter num1 10\n",
      "enter num2 20\n"
     ]
    },
    {
     "name": "stdout",
     "output_type": "stream",
     "text": [
      "sum =  30\n"
     ]
    }
   ],
   "source": [
    "num1 = int(input(\"enter num1\"))\n",
    "num2 = int(input(\"enter num2\"))\n",
    "result = addition(num1, num2)\n",
    "print(\"sum = \", result)"
   ]
  },
  {
   "cell_type": "code",
   "execution_count": 11,
   "id": "c78915b1-26d5-443a-beea-ca5f09318a4d",
   "metadata": {
    "tags": []
   },
   "outputs": [
    {
     "ename": "NameError",
     "evalue": "name 'user_input' is not defined",
     "output_type": "error",
     "traceback": [
      "\u001b[0;31m---------------------------------------------------------------------------\u001b[0m",
      "\u001b[0;31mNameError\u001b[0m                                 Traceback (most recent call last)",
      "Cell \u001b[0;32mIn[11], line 1\u001b[0m\n\u001b[0;32m----> 1\u001b[0m \u001b[38;5;28mprint\u001b[39m(user_input)\n",
      "\u001b[0;31mNameError\u001b[0m: name 'user_input' is not defined"
     ]
    }
   ],
   "source": [
    "print(user_input)"
   ]
  },
  {
   "cell_type": "code",
   "execution_count": 15,
   "id": "c3cdcd9f-75b9-4252-af7c-30eb4bd7291b",
   "metadata": {
    "tags": []
   },
   "outputs": [
    {
     "name": "stdin",
     "output_type": "stream",
     "text": [
      "enter a word in english asdf\n",
      "enter a word in english dsf\n",
      "enter a word in english df\n",
      "enter a word in english df\n",
      "enter a word in english df\n"
     ]
    }
   ],
   "source": [
    "ask_input()"
   ]
  },
  {
   "cell_type": "code",
   "execution_count": 88,
   "id": "a358a434-84e1-4694-9fe3-28b75c73f1c8",
   "metadata": {
    "tags": []
   },
   "outputs": [],
   "source": [
    "def getFive(*args):\n",
    "    for value in args:\n",
    "        if value == 5:\n",
    "            return 5\n",
    "        \n",
    "    print(\"hello\")\n",
    "        "
   ]
  },
  {
   "cell_type": "code",
   "execution_count": 89,
   "id": "94661b89-7203-4eea-b17b-59bb6cdd5369",
   "metadata": {
    "tags": []
   },
   "outputs": [
    {
     "data": {
      "text/plain": [
       "5"
      ]
     },
     "execution_count": 89,
     "metadata": {},
     "output_type": "execute_result"
    }
   ],
   "source": [
    "getFive(1,2,5, 4, 3)"
   ]
  },
  {
   "cell_type": "code",
   "execution_count": 109,
   "id": "9add27e4-35b3-4649-a358-49699bbd80ca",
   "metadata": {
    "tags": []
   },
   "outputs": [],
   "source": [
    "def getMultiValues(x):\n",
    "    return 5, 3, 4, 5"
   ]
  },
  {
   "cell_type": "code",
   "execution_count": 115,
   "id": "72ec5f6f-58a1-4f87-934f-01203d6270ef",
   "metadata": {
    "tags": []
   },
   "outputs": [],
   "source": [
    "def getMultiValues(x, y):\n",
    "    return {\"x\":10, \"y\":20}"
   ]
  },
  {
   "cell_type": "code",
   "execution_count": 116,
   "id": "54a1de03-6e9c-41a8-b4e9-0c8cde0a5ccb",
   "metadata": {
    "tags": []
   },
   "outputs": [
    {
     "data": {
      "text/plain": [
       "{'x': 10, 'y': 20}"
      ]
     },
     "execution_count": 116,
     "metadata": {},
     "output_type": "execute_result"
    }
   ],
   "source": [
    "getMultiValues(10, 6)"
   ]
  },
  {
   "cell_type": "code",
   "execution_count": 102,
   "id": "4115c28d-9838-4173-b062-ef4065407200",
   "metadata": {
    "tags": []
   },
   "outputs": [
    {
     "data": {
      "text/plain": [
       "5"
      ]
     },
     "execution_count": 102,
     "metadata": {},
     "output_type": "execute_result"
    }
   ],
   "source": [
    "j"
   ]
  },
  {
   "cell_type": "code",
   "execution_count": 1,
   "id": "68aa243c-c1da-45e4-8599-8c6e4df06460",
   "metadata": {},
   "outputs": [],
   "source": [
    "name = \"Sarah\"\n",
    "def greet(name):\n",
    "    print(f\"Hello {name}\")"
   ]
  },
  {
   "cell_type": "code",
   "execution_count": 2,
   "id": "f4db083d-6ebd-43e6-8bd8-cb1c436aaa60",
   "metadata": {
    "tags": []
   },
   "outputs": [
    {
     "name": "stdout",
     "output_type": "stream",
     "text": [
      "Hello Jonnah Hill\n"
     ]
    }
   ],
   "source": [
    "greet(\"Jonnah Hill\")"
   ]
  },
  {
   "cell_type": "code",
   "execution_count": 3,
   "id": "7371c68d-f477-40bf-9d82-f8727967dc46",
   "metadata": {
    "tags": []
   },
   "outputs": [
    {
     "data": {
      "text/plain": [
       "'Sarah'"
      ]
     },
     "execution_count": 3,
     "metadata": {},
     "output_type": "execute_result"
    }
   ],
   "source": [
    "name"
   ]
  },
  {
   "cell_type": "code",
   "execution_count": 5,
   "id": "6075b115-ee10-433f-bc90-c8a2d675458a",
   "metadata": {
    "tags": []
   },
   "outputs": [
    {
     "data": {
      "text/plain": [
       "100"
      ]
     },
     "execution_count": 5,
     "metadata": {},
     "output_type": "execute_result"
    }
   ],
   "source": [
    "def sq(x):\n",
    "    return x*x\n",
    "sq(10)"
   ]
  },
  {
   "cell_type": "code",
   "execution_count": 6,
   "id": "77b556cf-4638-4bd0-b092-1be716500218",
   "metadata": {
    "tags": []
   },
   "outputs": [
    {
     "data": {
      "text/plain": [
       "100"
      ]
     },
     "execution_count": 6,
     "metadata": {},
     "output_type": "execute_result"
    }
   ],
   "source": [
    "sq = lambda x: x * x\n",
    "sq(10)"
   ]
  },
  {
   "cell_type": "code",
   "execution_count": 10,
   "id": "6d3ec821-2982-4e46-bfd3-19545e14c58f",
   "metadata": {
    "tags": []
   },
   "outputs": [],
   "source": [
    "callback = lambda x, y: x**y"
   ]
  },
  {
   "cell_type": "code",
   "execution_count": 11,
   "id": "8c14c72f-2ecc-498d-bd17-72d593af9713",
   "metadata": {
    "tags": []
   },
   "outputs": [
    {
     "data": {
      "text/plain": [
       "8"
      ]
     },
     "execution_count": 11,
     "metadata": {},
     "output_type": "execute_result"
    }
   ],
   "source": [
    "callback(2,3)"
   ]
  },
  {
   "cell_type": "code",
   "execution_count": 29,
   "id": "d299a2b1-d191-4765-bf41-f75b7319f87a",
   "metadata": {
    "tags": []
   },
   "outputs": [],
   "source": [
    "city_callback = lambda city: print(city)"
   ]
  },
  {
   "cell_type": "code",
   "execution_count": 30,
   "id": "37b22ddb-f435-4ac4-9122-c4dac0d061ea",
   "metadata": {
    "tags": []
   },
   "outputs": [
    {
     "name": "stdout",
     "output_type": "stream",
     "text": [
      "asdf\n",
      "None\n"
     ]
    }
   ],
   "source": [
    "print(city_callback())"
   ]
  },
  {
   "cell_type": "code",
   "execution_count": 45,
   "id": "43d4e4e3-bd15-4a61-86a3-74acc3457594",
   "metadata": {
    "tags": []
   },
   "outputs": [],
   "source": [
    "del multiple_values\n",
    "y = 10"
   ]
  },
  {
   "cell_type": "code",
   "execution_count": 47,
   "id": "96cdcb83-8330-47eb-9522-0ed0bc246f08",
   "metadata": {
    "tags": []
   },
   "outputs": [],
   "source": [
    "multiple_values = lambda y: (y, y**2)"
   ]
  },
  {
   "cell_type": "code",
   "execution_count": 48,
   "id": "384abd22-0511-430a-a55b-b5ec3be8fdce",
   "metadata": {
    "tags": []
   },
   "outputs": [
    {
     "data": {
      "text/plain": [
       "(5, 25)"
      ]
     },
     "execution_count": 48,
     "metadata": {},
     "output_type": "execute_result"
    }
   ],
   "source": [
    "multiple_values(5)"
   ]
  },
  {
   "cell_type": "code",
   "execution_count": 49,
   "id": "2fb7ab95-2cc1-478e-ab84-f3b8e8cdaebc",
   "metadata": {
    "tags": []
   },
   "outputs": [],
   "source": [
    "multiple_values = lambda y: {\"input\": y, \"square\": y**2}"
   ]
  },
  {
   "cell_type": "code",
   "execution_count": 52,
   "id": "ee6730a8-990c-4dfe-b1a5-a7ed087d9fcd",
   "metadata": {
    "tags": []
   },
   "outputs": [
    {
     "data": {
      "text/plain": [
       "{'input': 2, 'square': 4}"
      ]
     },
     "execution_count": 52,
     "metadata": {},
     "output_type": "execute_result"
    }
   ],
   "source": [
    "multiple_values(2)"
   ]
  },
  {
   "cell_type": "code",
   "execution_count": 53,
   "id": "7a6e659f-30cd-440e-8a7a-36558600f2f0",
   "metadata": {
    "jupyter": {
     "source_hidden": true
    },
    "tags": []
   },
   "outputs": [],
   "source": [
    "def somedifficultFunction(range_end, callback):\n",
    "    for i in range(range_end):\n",
    "        print(f\"i = {i}\")\n",
    "    callback()\n",
    "    "
   ]
  },
  {
   "cell_type": "code",
   "execution_count": 69,
   "id": "0f3ea0b1-46d7-4ea3-bf05-2c8d4c8ebc8c",
   "metadata": {
    "tags": []
   },
   "outputs": [],
   "source": [
    "def somedifficultFunction(range_end, callback):\n",
    "    for i in range(range_end):\n",
    "        print(f\"i = {i}\")\n",
    "    print(type(callback))\n",
    "    if callable(callback): #make sure the callback is callable\n",
    "        callback()\n",
    "    "
   ]
  },
  {
   "cell_type": "code",
   "execution_count": 70,
   "id": "3153ee66-9840-4140-a1f4-7768a8c0d08d",
   "metadata": {
    "tags": []
   },
   "outputs": [
    {
     "name": "stdout",
     "output_type": "stream",
     "text": [
      "i = 0\n",
      "i = 1\n",
      "i = 2\n",
      "i = 3\n",
      "i = 4\n",
      "<class 'function'>\n",
      "function completed\n"
     ]
    }
   ],
   "source": [
    "somedifficultFunction(5, lambda : print(\"function completed\"))"
   ]
  },
  {
   "cell_type": "code",
   "execution_count": 71,
   "id": "f01161d1-0b92-4f0a-8a6f-2250fc10efd3",
   "metadata": {
    "tags": []
   },
   "outputs": [
    {
     "name": "stdout",
     "output_type": "stream",
     "text": [
      "i = 0\n",
      "i = 1\n",
      "i = 2\n",
      "i = 3\n",
      "i = 4\n",
      "<class 'str'>\n"
     ]
    }
   ],
   "source": [
    "somedifficultFunction(5, \"asdlfkj\")"
   ]
  },
  {
   "cell_type": "code",
   "execution_count": 72,
   "id": "728eadc8-0411-4e0e-9ddc-a2692efc66bf",
   "metadata": {
    "tags": []
   },
   "outputs": [
    {
     "name": "stdout",
     "output_type": "stream",
     "text": [
      "i = 0\n",
      "i = 1\n",
      "i = 2\n",
      "i = 3\n",
      "i = 4\n",
      "<class 'function'>\n",
      "function completed\n"
     ]
    }
   ],
   "source": [
    "somedifficultFunction(5, lambda : print(\"function completed\"))"
   ]
  },
  {
   "cell_type": "code",
   "execution_count": 79,
   "id": "ce248955-93c3-43f8-b6b6-287cb12075a9",
   "metadata": {
    "tags": []
   },
   "outputs": [],
   "source": [
    "def abc():\n",
    "    print(\"abc\")\n",
    "    return lambda x: x*2"
   ]
  },
  {
   "cell_type": "code",
   "execution_count": 80,
   "id": "b2ae8ceb-be00-4b40-a28d-58a0eab26371",
   "metadata": {
    "tags": []
   },
   "outputs": [],
   "source": [
    "def xyz():\n",
    "    return abc"
   ]
  },
  {
   "cell_type": "code",
   "execution_count": 81,
   "id": "5550e457-a649-4467-9819-56b811ec70f9",
   "metadata": {
    "tags": []
   },
   "outputs": [],
   "source": [
    "ghi = xyz()"
   ]
  },
  {
   "cell_type": "code",
   "execution_count": 82,
   "id": "26f62c67-d923-4067-b0d3-8125c2d3846a",
   "metadata": {
    "tags": []
   },
   "outputs": [
    {
     "name": "stdout",
     "output_type": "stream",
     "text": [
      "abc\n"
     ]
    },
    {
     "data": {
      "text/plain": [
       "<function __main__.abc.<locals>.<lambda>(x)>"
      ]
     },
     "execution_count": 82,
     "metadata": {},
     "output_type": "execute_result"
    }
   ],
   "source": [
    "abc()"
   ]
  },
  {
   "cell_type": "code",
   "execution_count": 86,
   "id": "b4e0e086-ac92-4d1c-b24f-9d0350988566",
   "metadata": {
    "tags": []
   },
   "outputs": [
    {
     "name": "stdout",
     "output_type": "stream",
     "text": [
      "abc\n"
     ]
    },
    {
     "data": {
      "text/plain": [
       "20"
      ]
     },
     "execution_count": 86,
     "metadata": {},
     "output_type": "execute_result"
    }
   ],
   "source": [
    "ghi()(10)"
   ]
  },
  {
   "cell_type": "code",
   "execution_count": 85,
   "id": "2be8ef35-d06c-49d6-a3b9-43e7c1dbaa30",
   "metadata": {
    "tags": []
   },
   "outputs": [
    {
     "data": {
      "text/plain": [
       "20"
      ]
     },
     "execution_count": 85,
     "metadata": {},
     "output_type": "execute_result"
    }
   ],
   "source": [
    "x(10)"
   ]
  },
  {
   "cell_type": "code",
   "execution_count": 90,
   "id": "b38154d8-26f8-4491-b75b-1c7fa55c00d5",
   "metadata": {
    "tags": []
   },
   "outputs": [],
   "source": [
    "values = [2, 4, 5]"
   ]
  },
  {
   "cell_type": "code",
   "execution_count": 101,
   "id": "cd8e7ab5-1f3d-4428-8a69-78f659b172da",
   "metadata": {
    "tags": []
   },
   "outputs": [],
   "source": [
    "values2 = map(lambda x: x**2, values)"
   ]
  },
  {
   "cell_type": "code",
   "execution_count": 102,
   "id": "7ba01685-f12d-4eb9-80ac-5a86c8867a9d",
   "metadata": {
    "tags": []
   },
   "outputs": [
    {
     "data": {
      "text/plain": [
       "[4, 16, 25]"
      ]
     },
     "execution_count": 102,
     "metadata": {},
     "output_type": "execute_result"
    }
   ],
   "source": [
    "list(values2)"
   ]
  },
  {
   "cell_type": "code",
   "execution_count": 3,
   "id": "b582da29-8930-4f26-8998-1b36566a745c",
   "metadata": {
    "tags": []
   },
   "outputs": [],
   "source": [
    "passwords = [\"a\", \"abc\", \"ab\", \"alsdkfj\", \"a;sldkjf;laksdjfklj\", \"alsdkjfkjwer\"]"
   ]
  },
  {
   "cell_type": "code",
   "execution_count": 4,
   "id": "fde7ccb6-5156-4574-959b-48e4bd492267",
   "metadata": {
    "tags": []
   },
   "outputs": [],
   "source": [
    "filtered_passwords = []\n",
    "for passsword in passwords:\n",
    "    if len(passsword) >= 8:\n",
    "        filtered_passwords.append(passsword)"
   ]
  },
  {
   "cell_type": "code",
   "execution_count": 5,
   "id": "a5a68193-d6d5-4c8c-800a-16fbadb2398a",
   "metadata": {
    "tags": []
   },
   "outputs": [
    {
     "data": {
      "text/plain": [
       "['a;sldkjf;laksdjfklj', 'alsdkjfkjwer']"
      ]
     },
     "execution_count": 5,
     "metadata": {},
     "output_type": "execute_result"
    }
   ],
   "source": [
    "filtered_passwords"
   ]
  },
  {
   "cell_type": "code",
   "execution_count": 7,
   "id": "d6e7211e-0f4d-46a7-9a84-2e7de07587f6",
   "metadata": {},
   "outputs": [
    {
     "data": {
      "text/plain": [
       "['a;sldkjf;laksdjfklj', 'alsdkjfkjwer']"
      ]
     },
     "execution_count": 7,
     "metadata": {},
     "output_type": "execute_result"
    }
   ],
   "source": [
    "list(filter( lambda x: len(x) >= 8, passwords))"
   ]
  },
  {
   "cell_type": "code",
   "execution_count": 23,
   "id": "2a1a2a87-2929-42d7-a319-03133899f516",
   "metadata": {
    "tags": []
   },
   "outputs": [],
   "source": [
    "def outer_function(name):\n",
    "    def inner_function():\n",
    "        city = \"peshawar\"\n",
    "        print(f\"this is inner function {name}\")\n",
    "    print(\"this is outer function\")\n",
    "    inner_function()\n",
    "    return 100, inner_function"
   ]
  },
  {
   "cell_type": "code",
   "execution_count": 24,
   "id": "7b1b8f22-921e-4384-92be-633d647058cd",
   "metadata": {
    "tags": []
   },
   "outputs": [
    {
     "name": "stdout",
     "output_type": "stream",
     "text": [
      "this is outer function\n",
      "this is inner function james\n"
     ]
    }
   ],
   "source": [
    "_, function1 = outer_function(\"james\")"
   ]
  },
  {
   "cell_type": "code",
   "execution_count": 25,
   "id": "2a49b86b-1370-4d76-80ed-342ab388890b",
   "metadata": {
    "tags": []
   },
   "outputs": [
    {
     "name": "stdout",
     "output_type": "stream",
     "text": [
      "this is inner function james\n"
     ]
    }
   ],
   "source": [
    "function1()"
   ]
  },
  {
   "cell_type": "code",
   "execution_count": 27,
   "id": "90ad9c98-03fe-475a-8aaa-2a691da1bb29",
   "metadata": {
    "tags": []
   },
   "outputs": [
    {
     "name": "stdout",
     "output_type": "stream",
     "text": [
      "this is outer function\n",
      "this is inner function sahar\n"
     ]
    }
   ],
   "source": [
    "_, function2 = outer_function(\"sahar\")\n"
   ]
  },
  {
   "cell_type": "code",
   "execution_count": 28,
   "id": "c3a5fe80-0f99-4364-a1ac-4764984a808d",
   "metadata": {
    "tags": []
   },
   "outputs": [
    {
     "name": "stdout",
     "output_type": "stream",
     "text": [
      "this is inner function sahar\n"
     ]
    }
   ],
   "source": [
    "function2()"
   ]
  },
  {
   "cell_type": "code",
   "execution_count": 33,
   "id": "7d9503a7-41ee-4f7c-99db-21699b39f46d",
   "metadata": {
    "tags": []
   },
   "outputs": [],
   "source": [
    "from time import time\n",
    "def measureTime(func):\n",
    "    def wrapper():\n",
    "        start_time = time()\n",
    "        func()\n",
    "        end_time = time()\n",
    "        print(\"excution time \", end_time - start_time)\n",
    "    return wrapper"
   ]
  },
  {
   "cell_type": "code",
   "execution_count": 36,
   "id": "b4712b81-43f6-4229-836f-2288734ded43",
   "metadata": {
    "tags": []
   },
   "outputs": [
    {
     "name": "stdout",
     "output_type": "stream",
     "text": [
      "excution time  0.000110626220703125\n"
     ]
    }
   ],
   "source": [
    "@measureTime\n",
    "def doSomeLooping():\n",
    "    for i in range(30):\n",
    "        print(i, end='\\r')\n",
    "doSomeLooping()"
   ]
  },
  {
   "cell_type": "code",
   "execution_count": 40,
   "id": "a5ed2788-591c-4799-9607-c7b0bdfd0b82",
   "metadata": {
    "tags": []
   },
   "outputs": [],
   "source": [
    "@measureTime\n",
    "def filerPassword():\n",
    "    passwords = [\"a\", \"abc\", \"ab\", \"alsdkfj\", \"a;sldkjf;laksdjfklj\", \"alsdkjfkjwer\"]\n",
    "    filtered_passwords = []\n",
    "    for passsword in passwords:\n",
    "        if len(passsword) >= 8:\n",
    "            filtered_passwords.append(passsword)\n",
    "    return filtered_passwords"
   ]
  },
  {
   "cell_type": "code",
   "execution_count": 41,
   "id": "ca3bea55-9e79-44ed-aefc-05158604f098",
   "metadata": {
    "tags": []
   },
   "outputs": [
    {
     "name": "stdout",
     "output_type": "stream",
     "text": [
      "excution time  7.62939453125e-06\n"
     ]
    }
   ],
   "source": [
    "filerPassword()"
   ]
  },
  {
   "cell_type": "code",
   "execution_count": 47,
   "id": "a04b0b94-fd1c-4d03-9530-b21e42444b4c",
   "metadata": {
    "tags": []
   },
   "outputs": [],
   "source": [
    "passwords = [\"a\", \"abc\", \"ab\", \"alsdkfj\", \"a;sldkjf;laksdjfklj\", \"alsdkjfkjwer\"]\n",
    "\n",
    "@measureTime\n",
    "def filerPassword(passwords):\n",
    "    filtered_passwords = []\n",
    "    for passsword in passwords:\n",
    "        if len(passsword) >= 8:\n",
    "            filtered_passwords.append(passsword)\n",
    "    return filtered_passwords"
   ]
  },
  {
   "cell_type": "code",
   "execution_count": 48,
   "id": "f69baedc-7aad-46f8-996d-4e246671e6d9",
   "metadata": {
    "tags": []
   },
   "outputs": [
    {
     "ename": "TypeError",
     "evalue": "measureTime.<locals>.wrapper() takes 0 positional arguments but 1 was given",
     "output_type": "error",
     "traceback": [
      "\u001b[0;31m---------------------------------------------------------------------------\u001b[0m",
      "\u001b[0;31mTypeError\u001b[0m                                 Traceback (most recent call last)",
      "Cell \u001b[0;32mIn[48], line 1\u001b[0m\n\u001b[0;32m----> 1\u001b[0m filerPassword(passwords)\n",
      "\u001b[0;31mTypeError\u001b[0m: measureTime.<locals>.wrapper() takes 0 positional arguments but 1 was given"
     ]
    }
   ],
   "source": [
    "filerPassword(passwords)"
   ]
  },
  {
   "cell_type": "code",
   "execution_count": null,
   "id": "86b7312e-6a31-43a3-ab3a-03541e96b6fe",
   "metadata": {},
   "outputs": [],
   "source": []
  }
 ],
 "metadata": {
  "kernelspec": {
   "display_name": "Python 3 (ipykernel)",
   "language": "python",
   "name": "python3"
  },
  "language_info": {
   "codemirror_mode": {
    "name": "ipython",
    "version": 3
   },
   "file_extension": ".py",
   "mimetype": "text/x-python",
   "name": "python",
   "nbconvert_exporter": "python",
   "pygments_lexer": "ipython3",
   "version": "3.11.5"
  }
 },
 "nbformat": 4,
 "nbformat_minor": 5
}
