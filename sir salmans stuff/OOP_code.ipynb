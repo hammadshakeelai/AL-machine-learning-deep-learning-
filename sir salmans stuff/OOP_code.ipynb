{
 "cells": [
  {
   "cell_type": "markdown",
   "id": "5815a90f-05d0-4ffa-b509-b4e0a725f2da",
   "metadata": {},
   "source": [
    "### week 2 day 2\n",
    "##### OOP"
   ]
  },
  {
   "cell_type": "code",
   "execution_count": 33,
   "id": "00216703-fb5f-4df9-b5f5-ff52c8dbe139",
   "metadata": {
    "tags": []
   },
   "outputs": [],
   "source": [
    "class Car:\n",
    "    \n",
    "    def horn(self):\n",
    "        print(\"BEEEEEEEEEEEPPPPPPPPPPPP\")\n",
    "    \n",
    "    def truckHorn(self):\n",
    "        print(\"alskdfhasdnfkla sjkldfjklasjlfjaskldfjka;sdf\")\n",
    "    \n",
    "    def make(self, name):\n",
    "        print(f\"this is a {name} car\")\n",
    "        return 1\n"
   ]
  },
  {
   "cell_type": "code",
   "execution_count": 34,
   "id": "1e3128a5-f705-4d85-8cd4-39b6c467fad7",
   "metadata": {
    "tags": []
   },
   "outputs": [],
   "source": [
    "c = Car()"
   ]
  },
  {
   "cell_type": "code",
   "execution_count": 36,
   "id": "a233b276-756a-4e64-aa1a-83f5a0361435",
   "metadata": {
    "tags": []
   },
   "outputs": [
    {
     "name": "stdout",
     "output_type": "stream",
     "text": [
      "this is a Mitsubishi car\n"
     ]
    }
   ],
   "source": [
    "year = c.make(\"Mitsubishi\")"
   ]
  },
  {
   "cell_type": "code",
   "execution_count": 37,
   "id": "ddc76e19-8406-4707-baa1-a6f51be15136",
   "metadata": {
    "tags": []
   },
   "outputs": [
    {
     "data": {
      "text/plain": [
       "1"
      ]
     },
     "execution_count": 37,
     "metadata": {},
     "output_type": "execute_result"
    }
   ],
   "source": [
    "year"
   ]
  },
  {
   "cell_type": "code",
   "execution_count": 27,
   "id": "c4f037e0-033f-473e-95d7-a4b5ce9b10ae",
   "metadata": {
    "tags": []
   },
   "outputs": [
    {
     "name": "stdout",
     "output_type": "stream",
     "text": [
      "BEEEEEEEEEEEPPPPPPPPPPPP\n"
     ]
    }
   ],
   "source": [
    "Car.horn(c)"
   ]
  },
  {
   "cell_type": "code",
   "execution_count": 28,
   "id": "bf9d7779-fcf6-4430-8b62-9138f4284c1d",
   "metadata": {
    "tags": []
   },
   "outputs": [
    {
     "name": "stdout",
     "output_type": "stream",
     "text": [
      "BEEEEEEEEEEEPPPPPPPPPPPP\n"
     ]
    }
   ],
   "source": [
    "c.horn()"
   ]
  },
  {
   "cell_type": "code",
   "execution_count": 29,
   "id": "d675a9db-2a6a-4a4b-b79c-b2ccdce3c9e9",
   "metadata": {
    "tags": []
   },
   "outputs": [
    {
     "name": "stdout",
     "output_type": "stream",
     "text": [
      "alskdfhasdnfkla sjkldfjklasjlfjaskldfjka;sdf\n"
     ]
    }
   ],
   "source": [
    "c.truckHorn()"
   ]
  },
  {
   "cell_type": "code",
   "execution_count": null,
   "id": "0b7a8903-f827-4b78-b83b-084fde23b599",
   "metadata": {},
   "outputs": [],
   "source": [
    "#create a book management system for library.\n",
    "# there are racks in the library and books are organised\n",
    "# by their theme.\n",
    "# Users can find book by name, index or language.\n",
    "# librarian can add more books to the library."
   ]
  },
  {
   "cell_type": "code",
   "execution_count": 40,
   "id": "5c8dcde2-0c48-4bfb-ab2a-cd20e2926e89",
   "metadata": {
    "tags": []
   },
   "outputs": [],
   "source": [
    "class Math:\n",
    "    \n",
    "    def add(self, *args):\n",
    "        return sum(args)\n",
    "    \n",
    "    def multiply(self, a, b):\n",
    "        return a*b\n",
    "    \n",
    "    def average(self, *args):\n",
    "        sum_result = sum(args)\n",
    "        average = sum_result / len(args)\n",
    "        return average    "
   ]
  },
  {
   "cell_type": "code",
   "execution_count": 45,
   "id": "806856fb-7240-4f34-92fe-f4faa919f700",
   "metadata": {
    "tags": []
   },
   "outputs": [
    {
     "name": "stdout",
     "output_type": "stream",
     "text": [
      "188\n"
     ]
    }
   ],
   "source": [
    "m = Math()\n",
    "s = m.add(10, 20, 30, 19, 20, 89)\n",
    "print(s)"
   ]
  },
  {
   "cell_type": "code",
   "execution_count": 42,
   "id": "fb34bb17-3176-407a-8a8c-3a2335b582c9",
   "metadata": {
    "tags": []
   },
   "outputs": [
    {
     "data": {
      "text/plain": [
       "6"
      ]
     },
     "execution_count": 42,
     "metadata": {},
     "output_type": "execute_result"
    }
   ],
   "source": [
    "m.multiply(2, 3)"
   ]
  },
  {
   "cell_type": "code",
   "execution_count": 54,
   "id": "353f0586-3e55-4e02-b110-8eff72d1d541",
   "metadata": {
    "tags": []
   },
   "outputs": [
    {
     "data": {
      "text/plain": [
       "8.75"
      ]
     },
     "execution_count": 54,
     "metadata": {},
     "output_type": "execute_result"
    }
   ],
   "source": [
    "m.average(0, 0, 1, 34)\n"
   ]
  },
  {
   "cell_type": "code",
   "execution_count": null,
   "id": "8de1deac-e051-42c0-a1df-40f759b31e29",
   "metadata": {},
   "outputs": [],
   "source": [
    "class Tokenizer {\n",
    "    string text;\n",
    "    \n",
    "    Tokenizer() {\n",
    "        cout << text;\n",
    "    }\n",
    "    \n",
    "    string get_sentences() {\n",
    "        cout << text;\n",
    "    }\n",
    "}"
   ]
  },
  {
   "cell_type": "code",
   "execution_count": 17,
   "id": "dcddb6d5-3842-4342-9bcd-142d8c412115",
   "metadata": {
    "tags": []
   },
   "outputs": [],
   "source": [
    "class Tokenizer:\n",
    "    \n",
    "    def get_sentences(self, text):\n",
    "        return text.split(\".\")\n",
    "    \n",
    "    def get_words(self, sentences):\n",
    "        words = []\n",
    "        for s in sentences:\n",
    "            words.extend(s.split(\" \"))\n",
    "        return words\n",
    "    \n",
    "    def get_characters(self, words):\n",
    "        characters = []\n",
    "        for w in words:\n",
    "            characters.append(list(w))\n",
    "        return characters"
   ]
  },
  {
   "cell_type": "code",
   "execution_count": 20,
   "id": "8a5e164c-a7a4-40a3-9e08-f077dd240df5",
   "metadata": {
    "tags": []
   },
   "outputs": [],
   "source": [
    "text = \"the quick brown fox jumps over the lazy dog. \\\n",
    "The dog wife was not happy at all. She was thinking \\\n",
    "the dog jumping without her permission.\""
   ]
  },
  {
   "cell_type": "code",
   "execution_count": 21,
   "id": "d41e2255-b83a-4d61-bc50-2bf13d378047",
   "metadata": {
    "tags": []
   },
   "outputs": [
    {
     "name": "stdout",
     "output_type": "stream",
     "text": [
      "constructor called\n"
     ]
    }
   ],
   "source": [
    "t = Tokenizer(text)\n",
    "# sentences = t.get_sentences(text)\n",
    "# print(sentences)"
   ]
  },
  {
   "cell_type": "code",
   "execution_count": 101,
   "id": "655110d8-1ad9-470c-bcf0-2031f2b4ab1d",
   "metadata": {
    "tags": []
   },
   "outputs": [
    {
     "name": "stdout",
     "output_type": "stream",
     "text": [
      "['the', 'quick', 'brown', 'fox', 'jumps', 'over', 'the', 'lazy', 'dog', '', 'The', 'dog', 'wife', 'was', 'not', 'happy', 'at', 'all', '', 'She', 'was', 'thinking', 'the', 'dog', 'jumping', 'without', 'her', 'permission', '']\n"
     ]
    }
   ],
   "source": [
    "words = t.get_words(sentences)\n",
    "print(words)"
   ]
  },
  {
   "cell_type": "code",
   "execution_count": 91,
   "id": "5eca9378-2723-4f33-9b57-7aa630b84f5c",
   "metadata": {
    "tags": []
   },
   "outputs": [
    {
     "name": "stdout",
     "output_type": "stream",
     "text": [
      "['the', 'quick', 'brown', 'fox', 'jumps', 'over', 'the', 'lazy', 'dog', 'The', 'dog', 'wife', 'was', 'not', 'happy', 'at', 'all', 'She', 'was', 'thinking', 'the', 'dog', 'jumping', 'without', 'her', 'permission']\n"
     ]
    }
   ],
   "source": [
    "words = list(filter(lambda w: len(w) != 0, words))\n",
    "print(words)"
   ]
  },
  {
   "cell_type": "code",
   "execution_count": 94,
   "id": "e4aa5fdb-4972-431f-8cf2-73cac33a0b09",
   "metadata": {
    "tags": []
   },
   "outputs": [
    {
     "data": {
      "text/plain": [
       "{'She',\n",
       " 'The',\n",
       " 'all',\n",
       " 'at',\n",
       " 'brown',\n",
       " 'dog',\n",
       " 'fox',\n",
       " 'happy',\n",
       " 'her',\n",
       " 'jumping',\n",
       " 'jumps',\n",
       " 'lazy',\n",
       " 'not',\n",
       " 'over',\n",
       " 'permission',\n",
       " 'quick',\n",
       " 'the',\n",
       " 'thinking',\n",
       " 'was',\n",
       " 'wife',\n",
       " 'without'}"
      ]
     },
     "execution_count": 94,
     "metadata": {},
     "output_type": "execute_result"
    }
   ],
   "source": [
    "set(words)"
   ]
  },
  {
   "cell_type": "code",
   "execution_count": 92,
   "id": "80c80a9d-87fa-43aa-9936-115d28bfd3ad",
   "metadata": {
    "tags": []
   },
   "outputs": [],
   "source": [
    "characters = t.get_characters(words)"
   ]
  },
  {
   "cell_type": "code",
   "execution_count": 3,
   "id": "30d19c4a-38dc-4ec9-9e1e-b478148e131a",
   "metadata": {
    "tags": []
   },
   "outputs": [
    {
     "data": {
      "text/plain": [
       "[(1, 'a', 'z'), (2, 'b', 'x'), (3, 'c', 'v'), (4, 'd', 'n')]"
      ]
     },
     "execution_count": 3,
     "metadata": {},
     "output_type": "execute_result"
    }
   ],
   "source": [
    "list(zip([1, 2, 3, 4], ['a', 'b', 'c', 'd'], ['z', 'x', 'v', 'n']))"
   ]
  },
  {
   "cell_type": "markdown",
   "id": "4ff95eda-7f70-4d30-8809-bedb48bd9501",
   "metadata": {},
   "source": [
    "#### constructor and destructors"
   ]
  },
  {
   "cell_type": "code",
   "execution_count": 72,
   "id": "1a894de0-2e18-47dd-9024-cebf7a5a47d9",
   "metadata": {},
   "outputs": [],
   "source": [
    "class Tokenizer:\n",
    "    \n",
    "    def __init__(self, text):\n",
    "        self.__text = text\n",
    "        \n",
    "    def get_text(self): #getters\n",
    "        return self.__text\n",
    "    \n",
    "    def set_t(self, t):\n",
    "        self.__set_text(t)\n",
    "        \n",
    "    def __set_text(self, t):\n",
    "        self.__text = t\n",
    "    \n",
    "    def create_global_variable(self):\n",
    "        self.pi = 3.14\n",
    "    \n",
    "    def print_text(self):\n",
    "        print(self.__text)\n",
    "        print(self.pi)\n",
    "        \n",
    "    def get_sentences(self, text):\n",
    "        return text.split(\".\")\n",
    "    \n",
    "    def get_words(self, sentences):\n",
    "        words = []\n",
    "        for s in sentences:\n",
    "            words.extend(s.split(\" \"))\n",
    "        return words\n",
    "    \n",
    "    def get_characters(self, words):\n",
    "        characters = []\n",
    "        for w in words:\n",
    "            characters.append(list(w))\n",
    "        return characters\n",
    "    \n",
    "    def __del__(self):\n",
    "        print(\"this is destructor called\")"
   ]
  },
  {
   "cell_type": "code",
   "execution_count": 73,
   "id": "597952f8-0881-4f0c-9858-80105c75fa2f",
   "metadata": {
    "tags": []
   },
   "outputs": [],
   "source": [
    "text = \"the quick brown fox jumps over the lazy dog. \\\n",
    "The dog wife was not happy at all. She was thinking \\\n",
    "the dog jumping without her permission.\"\n",
    "\n",
    "t = Tokenizer(text)"
   ]
  },
  {
   "cell_type": "code",
   "execution_count": 74,
   "id": "e790b183-4b66-42a1-8415-cebe40328d07",
   "metadata": {
    "tags": []
   },
   "outputs": [
    {
     "name": "stdout",
     "output_type": "stream",
     "text": [
      "the quick brown fox jumps over the lazy dog. The dog wife was not happy at all. She was thinking the dog jumping without her permission.\n",
      "3.14\n"
     ]
    }
   ],
   "source": [
    "t.create_global_variable()\n",
    "t.print_text()"
   ]
  },
  {
   "cell_type": "code",
   "execution_count": 75,
   "id": "e6e70fc2-fd80-4373-9b32-fb1eb110c36a",
   "metadata": {
    "tags": []
   },
   "outputs": [
    {
     "data": {
      "text/plain": [
       "'the quick brown fox jumps over the lazy dog. The dog wife was not happy at all. She was thinking the dog jumping without her permission.'"
      ]
     },
     "execution_count": 75,
     "metadata": {},
     "output_type": "execute_result"
    }
   ],
   "source": [
    "t.get_text()"
   ]
  },
  {
   "cell_type": "code",
   "execution_count": 76,
   "id": "781fb862-c34d-49e1-91ae-a382a73fb8f3",
   "metadata": {
    "tags": []
   },
   "outputs": [],
   "source": [
    "t.set_t(\"some new  here!!!\")"
   ]
  },
  {
   "cell_type": "code",
   "execution_count": 77,
   "id": "1e981bb4-8427-4c21-8bd7-92185c6b72d4",
   "metadata": {
    "tags": []
   },
   "outputs": [
    {
     "data": {
      "text/plain": [
       "'some new  here!!!'"
      ]
     },
     "execution_count": 77,
     "metadata": {},
     "output_type": "execute_result"
    }
   ],
   "source": [
    "t.get_text()"
   ]
  },
  {
   "cell_type": "code",
   "execution_count": 78,
   "id": "b5ba9064-ff99-4e2a-8a6d-cf2845efeffa",
   "metadata": {
    "tags": []
   },
   "outputs": [
    {
     "ename": "AttributeError",
     "evalue": "'Tokenizer' object has no attribute '__set_text'",
     "output_type": "error",
     "traceback": [
      "\u001b[0;31m---------------------------------------------------------------------------\u001b[0m",
      "\u001b[0;31mAttributeError\u001b[0m                            Traceback (most recent call last)",
      "Cell \u001b[0;32mIn[78], line 1\u001b[0m\n\u001b[0;32m----> 1\u001b[0m t\u001b[38;5;241m.\u001b[39m__set_text\n",
      "\u001b[0;31mAttributeError\u001b[0m: 'Tokenizer' object has no attribute '__set_text'"
     ]
    }
   ],
   "source": [
    "t.__set_text"
   ]
  },
  {
   "cell_type": "code",
   "execution_count": 79,
   "id": "ddbdf496-c3d8-4502-89c5-4870c1067acd",
   "metadata": {
    "tags": []
   },
   "outputs": [],
   "source": [
    "del t"
   ]
  },
  {
   "cell_type": "code",
   "execution_count": 80,
   "id": "44a8895c-f23a-4085-8b07-633f36cdbd6c",
   "metadata": {
    "tags": []
   },
   "outputs": [
    {
     "name": "stdout",
     "output_type": "stream",
     "text": [
      "this is destructor called\n"
     ]
    },
    {
     "ename": "NameError",
     "evalue": "name 't' is not defined",
     "output_type": "error",
     "traceback": [
      "\u001b[0;31m---------------------------------------------------------------------------\u001b[0m",
      "\u001b[0;31mNameError\u001b[0m                                 Traceback (most recent call last)",
      "Cell \u001b[0;32mIn[80], line 1\u001b[0m\n\u001b[0;32m----> 1\u001b[0m t\n",
      "\u001b[0;31mNameError\u001b[0m: name 't' is not defined"
     ]
    }
   ],
   "source": [
    "t"
   ]
  },
  {
   "cell_type": "code",
   "execution_count": 127,
   "id": "a353348f-e5d1-41ef-a8c6-ca1afc0a4acf",
   "metadata": {
    "tags": []
   },
   "outputs": [],
   "source": [
    "class Vehicle:\n",
    "    def __init__(self, model=\"vgc\"):\n",
    "        self._model = model\n",
    "        self.__chasis_number = \"123445\"\n",
    "    \n",
    "    def get_model(self):\n",
    "        return self._model\n",
    "    \n",
    "    def get_chasis_number(self):\n",
    "        return self.__chasis_number"
   ]
  },
  {
   "cell_type": "code",
   "execution_count": 131,
   "id": "9ebfcddf-7171-40c7-b8fa-4fbfbd9dce12",
   "metadata": {
    "tags": []
   },
   "outputs": [],
   "source": [
    "class Car(Vehicle):\n",
    "    def __init__(self, model):\n",
    "        super().__init__(model)\n",
    "        self._model = \"Suzuki\"\n",
    "        \n",
    "    def model_name(self):\n",
    "        print(\"parent class model\", super().get_model())\n",
    "        print(self._model)\n",
    "        \n",
    "    def chasis_number(self):\n",
    "        print(self.get_chasis_number())\n",
    "        # print(self.__chasis_number)"
   ]
  },
  {
   "cell_type": "code",
   "execution_count": 132,
   "id": "6c903f72-cb2b-42dc-89fc-c7751a06dd5f",
   "metadata": {
    "tags": []
   },
   "outputs": [],
   "source": [
    "c = Car(\"Toyota\")"
   ]
  },
  {
   "cell_type": "code",
   "execution_count": 133,
   "id": "ff2be4fe-be2e-4261-88cc-ad92c33ebc44",
   "metadata": {
    "tags": []
   },
   "outputs": [
    {
     "name": "stdout",
     "output_type": "stream",
     "text": [
      "parent class model Toyota\n",
      "Toyota\n"
     ]
    }
   ],
   "source": [
    "c.model_name()"
   ]
  },
  {
   "cell_type": "code",
   "execution_count": 125,
   "id": "71208b0b-fc33-40f1-9559-192395f80315",
   "metadata": {
    "tags": []
   },
   "outputs": [
    {
     "ename": "AttributeError",
     "evalue": "'Car' object has no attribute '_Vehicle__chasis_number'",
     "output_type": "error",
     "traceback": [
      "\u001b[0;31m---------------------------------------------------------------------------\u001b[0m",
      "\u001b[0;31mAttributeError\u001b[0m                            Traceback (most recent call last)",
      "Cell \u001b[0;32mIn[125], line 1\u001b[0m\n\u001b[0;32m----> 1\u001b[0m c\u001b[38;5;241m.\u001b[39mchasis_number()\n",
      "Cell \u001b[0;32mIn[122], line 11\u001b[0m, in \u001b[0;36mCar.chasis_number\u001b[0;34m(self)\u001b[0m\n\u001b[1;32m     10\u001b[0m \u001b[38;5;28;01mdef\u001b[39;00m \u001b[38;5;21mchasis_number\u001b[39m(\u001b[38;5;28mself\u001b[39m):\n\u001b[0;32m---> 11\u001b[0m     \u001b[38;5;28mprint\u001b[39m(\u001b[38;5;28mself\u001b[39m\u001b[38;5;241m.\u001b[39mget_chasis_number())\n",
      "Cell \u001b[0;32mIn[121], line 10\u001b[0m, in \u001b[0;36mVehicle.get_chasis_number\u001b[0;34m(self)\u001b[0m\n\u001b[1;32m      9\u001b[0m \u001b[38;5;28;01mdef\u001b[39;00m \u001b[38;5;21mget_chasis_number\u001b[39m(\u001b[38;5;28mself\u001b[39m):\n\u001b[0;32m---> 10\u001b[0m     \u001b[38;5;28;01mreturn\u001b[39;00m \u001b[38;5;28mself\u001b[39m\u001b[38;5;241m.\u001b[39m__chasis_number\n",
      "\u001b[0;31mAttributeError\u001b[0m: 'Car' object has no attribute '_Vehicle__chasis_number'"
     ]
    }
   ],
   "source": [
    "c.chasis_number()"
   ]
  },
  {
   "cell_type": "code",
   "execution_count": 108,
   "id": "169fa676-f834-44a7-962a-9cd4132c21b9",
   "metadata": {
    "tags": []
   },
   "outputs": [
    {
     "data": {
      "text/plain": [
       "'123445'"
      ]
     },
     "execution_count": 108,
     "metadata": {},
     "output_type": "execute_result"
    }
   ],
   "source": [
    "c.get_chasis_number()"
   ]
  },
  {
   "cell_type": "code",
   "execution_count": 158,
   "id": "5daaec12-1aa1-45c9-bcaf-e2c6f2ffd01e",
   "metadata": {
    "tags": []
   },
   "outputs": [],
   "source": [
    "class T:\n",
    "    def __init__(self):\n",
    "        self.class_name = \"T class\""
   ]
  },
  {
   "cell_type": "code",
   "execution_count": 159,
   "id": "832ef91d-88f5-4b97-96f0-6d8245f44c3d",
   "metadata": {
    "tags": []
   },
   "outputs": [],
   "source": [
    "class P(T):\n",
    "    def __init__(self):\n",
    "        self.class_name = \"P class\""
   ]
  },
  {
   "cell_type": "code",
   "execution_count": 160,
   "id": "ca524098-1714-4af8-b23e-d66263daf32d",
   "metadata": {
    "tags": []
   },
   "outputs": [],
   "source": [
    "class Q(T):\n",
    "    def __init__(self):\n",
    "        self.class_name = \"Q class\""
   ]
  },
  {
   "cell_type": "code",
   "execution_count": 161,
   "id": "4453c5bd-e1bf-42fb-aea9-857db05cdce6",
   "metadata": {
    "tags": []
   },
   "outputs": [],
   "source": [
    "class C(P, Q):\n",
    "    pass"
   ]
  },
  {
   "cell_type": "code",
   "execution_count": 162,
   "id": "dbd6cdf7-dbd7-49a7-9260-2692f9a2c8fe",
   "metadata": {
    "tags": []
   },
   "outputs": [],
   "source": [
    "c = C()"
   ]
  },
  {
   "cell_type": "code",
   "execution_count": 163,
   "id": "caebc9df-da44-41e9-9f7d-d14c00cb63ee",
   "metadata": {
    "tags": []
   },
   "outputs": [
    {
     "data": {
      "text/plain": [
       "'P class'"
      ]
     },
     "execution_count": 163,
     "metadata": {},
     "output_type": "execute_result"
    }
   ],
   "source": [
    "c.class_name"
   ]
  },
  {
   "cell_type": "code",
   "execution_count": 164,
   "id": "6836dbae-103a-4344-8618-255f4d5c63ab",
   "metadata": {
    "tags": []
   },
   "outputs": [
    {
     "data": {
      "text/plain": [
       "(__main__.C, __main__.P, __main__.Q, __main__.T, object)"
      ]
     },
     "execution_count": 164,
     "metadata": {},
     "output_type": "execute_result"
    }
   ],
   "source": [
    "C.__mro__"
   ]
  },
  {
   "cell_type": "code",
   "execution_count": null,
   "id": "e36ca66b-6964-4dd4-bcd9-bac67039f45e",
   "metadata": {},
   "outputs": [],
   "source": []
  }
 ],
 "metadata": {
  "kernelspec": {
   "display_name": "Python 3 (ipykernel)",
   "language": "python",
   "name": "python3"
  },
  "language_info": {
   "codemirror_mode": {
    "name": "ipython",
    "version": 3
   },
   "file_extension": ".py",
   "mimetype": "text/x-python",
   "name": "python",
   "nbconvert_exporter": "python",
   "pygments_lexer": "ipython3",
   "version": "3.11.5"
  }
 },
 "nbformat": 4,
 "nbformat_minor": 5
}
