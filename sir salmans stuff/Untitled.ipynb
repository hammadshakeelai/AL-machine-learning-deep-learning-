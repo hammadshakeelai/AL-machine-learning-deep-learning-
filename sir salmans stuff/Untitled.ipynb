{
 "cells": [
  {
   "cell_type": "code",
   "execution_count": 1,
   "id": "3fbeec04-7151-41ab-b899-63ad667415b8",
   "metadata": {
    "tags": []
   },
   "outputs": [
    {
     "data": {
      "text/plain": [
       "'this is some random text. it is to be divided into sentences. and this is absolutely wrong statement'"
      ]
     },
     "execution_count": 1,
     "metadata": {},
     "output_type": "execute_result"
    }
   ],
   "source": [
    "text = \"this is some random text. it is to be divided into sentences. and this is absolutely wrong statement\"\n",
    "text"
   ]
  },
  {
   "cell_type": "code",
   "execution_count": 6,
   "id": "d62f3e1c-2282-4462-9bd3-ec53f10eff73",
   "metadata": {
    "tags": []
   },
   "outputs": [],
   "source": [
    "sentences = text.split('.')"
   ]
  },
  {
   "cell_type": "code",
   "execution_count": 7,
   "id": "2aa8049f-5b16-4b46-aef3-3fdad8b4e6a7",
   "metadata": {
    "tags": []
   },
   "outputs": [
    {
     "data": {
      "text/plain": [
       "['this is some random text',\n",
       " ' it is to be divided into sentences',\n",
       " ' and this is absolutely wrong statement']"
      ]
     },
     "execution_count": 7,
     "metadata": {},
     "output_type": "execute_result"
    }
   ],
   "source": [
    "sentences"
   ]
  },
  {
   "cell_type": "code",
   "execution_count": 11,
   "id": "8e2b0591-2932-41db-a956-5c7726dc53f4",
   "metadata": {
    "tags": []
   },
   "outputs": [
    {
     "data": {
      "text/plain": [
       "'this is some random text'"
      ]
     },
     "execution_count": 11,
     "metadata": {},
     "output_type": "execute_result"
    }
   ],
   "source": [
    "sentences[0]"
   ]
  },
  {
   "cell_type": "code",
   "execution_count": 18,
   "id": "8946f2ad-dc5f-4989-8107-7c9477d0d967",
   "metadata": {
    "tags": []
   },
   "outputs": [
    {
     "name": "stdout",
     "output_type": "stream",
     "text": [
      "this is some random text"
     ]
    }
   ],
   "source": [
    "for ch in sentences[0]:\n",
    "    print(ch, end='')"
   ]
  },
  {
   "cell_type": "code",
   "execution_count": 24,
   "id": "a6a7dfc3-9ac2-43d3-ba96-64be717f0338",
   "metadata": {
    "tags": []
   },
   "outputs": [
    {
     "data": {
      "text/plain": [
       "[0, 2, 4]"
      ]
     },
     "execution_count": 24,
     "metadata": {},
     "output_type": "execute_result"
    }
   ],
   "source": [
    "list(range(0, 5, 2))"
   ]
  },
  {
   "cell_type": "code",
   "execution_count": 27,
   "id": "3f068186-7e2f-4e8d-a3f5-d49c19df462a",
   "metadata": {
    "tags": []
   },
   "outputs": [],
   "source": [
    "values = []\n",
    "for i in range(0, 5, 2):\n",
    "    values.append(i**3)"
   ]
  },
  {
   "cell_type": "code",
   "execution_count": 28,
   "id": "42f25814-9a67-4051-93f8-d101e743ff33",
   "metadata": {
    "tags": []
   },
   "outputs": [
    {
     "data": {
      "text/plain": [
       "[0, 8, 64]"
      ]
     },
     "execution_count": 28,
     "metadata": {},
     "output_type": "execute_result"
    }
   ],
   "source": [
    "range("
   ]
  },
  {
   "cell_type": "code",
   "execution_count": 5,
   "id": "066892cb-c922-4467-9a12-9e48fc2101fa",
   "metadata": {},
   "outputs": [],
   "source": [
    "for i in range(10):\n",
    "    break\n",
    "    print(i)"
   ]
  },
  {
   "cell_type": "code",
   "execution_count": 6,
   "id": "7bb9596e-ad76-45e4-ba9f-d19c586154b2",
   "metadata": {
    "collapsed": true,
    "jupyter": {
     "outputs_hidden": true
    },
    "tags": []
   },
   "outputs": [
    {
     "name": "stdout",
     "output_type": "stream",
     "text": [
      "y =  0\n",
      "y =  1\n",
      "y =  2\n",
      "j =  0\n",
      "y =  0\n",
      "y =  1\n",
      "y =  2\n",
      "j =  1\n",
      "i =  0\n",
      "y =  0\n",
      "y =  1\n",
      "y =  2\n",
      "j =  0\n",
      "y =  0\n",
      "y =  1\n",
      "y =  2\n",
      "j =  1\n",
      "i =  1\n",
      "y =  0\n",
      "y =  1\n",
      "y =  2\n",
      "j =  0\n",
      "y =  0\n",
      "y =  1\n",
      "y =  2\n",
      "j =  1\n",
      "i =  2\n"
     ]
    }
   ],
   "source": [
    "for i in range(3):\n",
    "    for j in range(2):\n",
    "        for y in range(3):\n",
    "            y = y + 1\n",
    "            result = y + 1\n",
    "            y = y + 1\n",
    "            result = y + 1\n",
    "            y = y + 1\n",
    "            result = y + 1\n",
    "            print(\"y = \", y)\n",
    "        j = j + 1\n",
    "        result = j + 1\n",
    "        print(\"j = \", j)\n",
    "    print(\"i = \", i)"
   ]
  },
  {
   "cell_type": "code",
   "execution_count": 3,
   "id": "e1ed6b55-a256-45cc-8340-c5b57ec4523b",
   "metadata": {},
   "outputs": [],
   "source": [
    "numbers = [1, 2,3,4,5,5]"
   ]
  },
  {
   "cell_type": "code",
   "execution_count": 12,
   "id": "32656481-f32e-4cce-9f41-dcb569a4ef43",
   "metadata": {
    "tags": []
   },
   "outputs": [
    {
     "name": "stdin",
     "output_type": "stream",
     "text": [
      "enter a number 5\n",
      "enter a number 4\n",
      "enter a number 5\n",
      "enter a number 4\n",
      "enter a number 2\n"
     ]
    }
   ],
   "source": [
    "for i in range(5):\n",
    "    numbers.append(int(input(\"enter a number\")))"
   ]
  },
  {
   "cell_type": "code",
   "execution_count": 17,
   "id": "3007978d-3130-40e3-89f2-fcff132a6935",
   "metadata": {
    "tags": []
   },
   "outputs": [],
   "source": [
    "numbers = [1,2,3,4]"
   ]
  },
  {
   "cell_type": "code",
   "execution_count": 20,
   "id": "e07ce17f-38a2-4b90-ac20-34eaefebe903",
   "metadata": {
    "tags": []
   },
   "outputs": [
    {
     "data": {
      "text/plain": [
       "['word', 'captial', 'something', 'asdlfkj']"
      ]
     },
     "execution_count": 20,
     "metadata": {},
     "output_type": "execute_result"
    }
   ],
   "source": [
    "[x.lower() for x in [\"WORD\", \"CAPTIAL\", \"SOMETHING\", \"ASDLFKJ\"]]"
   ]
  },
  {
   "cell_type": "code",
   "execution_count": 22,
   "id": "261c1428-334f-4208-b63d-98dff3e4c358",
   "metadata": {
    "tags": []
   },
   "outputs": [
    {
     "data": {
      "text/plain": [
       "'Python is powerful and simple'"
      ]
     },
     "execution_count": 22,
     "metadata": {},
     "output_type": "execute_result"
    }
   ],
   "source": [
    "sentence = \"Python is powerful and simple\"\n",
    "sentence"
   ]
  },
  {
   "cell_type": "code",
   "execution_count": 23,
   "id": "4ddf9f51-edb6-4c55-a5bd-7680e89d6300",
   "metadata": {
    "tags": []
   },
   "outputs": [
    {
     "data": {
      "text/plain": [
       "['Python', 'is', 'powerful', 'and', 'simple']"
      ]
     },
     "execution_count": 23,
     "metadata": {},
     "output_type": "execute_result"
    }
   ],
   "source": [
    "words = sentence.split()\n",
    "words"
   ]
  },
  {
   "cell_type": "code",
   "execution_count": 41,
   "id": "716e005e-926d-4d67-a670-682cd6e1bffe",
   "metadata": {
    "tags": []
   },
   "outputs": [
    {
     "name": "stdout",
     "output_type": "stream",
     "text": [
      "[['P', 'y', 't', 'h', 'o', 'n'], ['i', 's'], ['p', 'o', 'w', 'e', 'r', 'f', 'u', 'l'], ['a', 'n', 'd'], ['s', 'i', 'm', 'p', 'l', 'e']]\n"
     ]
    }
   ],
   "source": [
    "word_characters = []\n",
    "for word in words:   \n",
    "    characters = []\n",
    "    for ch in word:\n",
    "        characters.append(ch)\n",
    "    word_characters.append(characters)\n",
    "print(word_characters)"
   ]
  },
  {
   "cell_type": "code",
   "execution_count": 44,
   "id": "f86910f6-ab22-4cc6-b31e-db0e692a6da4",
   "metadata": {
    "tags": []
   },
   "outputs": [
    {
     "data": {
      "text/plain": [
       "[['P', 'y', 't', 'h', 'o', 'n'],\n",
       " ['i', 's'],\n",
       " ['p', 'o', 'w', 'e', 'r', 'f', 'u', 'l'],\n",
       " ['a', 'n', 'd'],\n",
       " ['s', 'i', 'm', 'p', 'l', 'e']]"
      ]
     },
     "execution_count": 44,
     "metadata": {},
     "output_type": "execute_result"
    }
   ],
   "source": [
    "word_characters"
   ]
  },
  {
   "cell_type": "code",
   "execution_count": 43,
   "id": "1d369165-bf54-4180-9c42-8dd0d324d0c2",
   "metadata": {
    "tags": []
   },
   "outputs": [
    {
     "data": {
      "text/plain": [
       "[['P', 'y', 't', 'h', 'o', 'n'],\n",
       " ['i', 's'],\n",
       " ['p', 'o', 'w', 'e', 'r', 'f', 'u', 'l'],\n",
       " ['a', 'n', 'd'],\n",
       " ['s', 'i', 'm', 'p', 'l', 'e']]"
      ]
     },
     "execution_count": 43,
     "metadata": {},
     "output_type": "execute_result"
    }
   ],
   "source": [
    "[list(w) for w in words]"
   ]
  },
  {
   "cell_type": "code",
   "execution_count": 36,
   "id": "0dacf02b-fe56-4e88-9807-50a50b38779b",
   "metadata": {
    "tags": []
   },
   "outputs": [
    {
     "data": {
      "text/plain": [
       "['P', 'y', 't', 'h', 'o', 'n']"
      ]
     },
     "execution_count": 36,
     "metadata": {},
     "output_type": "execute_result"
    }
   ],
   "source": [
    "list(words[0])"
   ]
  },
  {
   "cell_type": "code",
   "execution_count": 24,
   "id": "beb192aa-d6c2-4706-98f6-fa1da159ccef",
   "metadata": {
    "tags": []
   },
   "outputs": [
    {
     "data": {
      "text/plain": [
       "['is', 'and']"
      ]
     },
     "execution_count": 24,
     "metadata": {},
     "output_type": "execute_result"
    }
   ],
   "source": [
    "short_words = [w for w in words if len(w) <= 4]\n",
    "short_words"
   ]
  },
  {
   "cell_type": "code",
   "execution_count": 25,
   "id": "b9a7645f-3728-4020-ab7a-e6931858d258",
   "metadata": {
    "tags": []
   },
   "outputs": [],
   "source": [
    "short_words = []\n",
    "for w in words:\n",
    "    if len(w) <= 4:\n",
    "        short_words.append(w)"
   ]
  },
  {
   "cell_type": "code",
   "execution_count": 59,
   "id": "3858cbb7-7f37-47ec-8f81-d134dd9d1671",
   "metadata": {
    "tags": []
   },
   "outputs": [
    {
     "data": {
      "text/plain": [
       "['Python', 'is', 'powerful', 'and', 'simple']"
      ]
     },
     "execution_count": 59,
     "metadata": {},
     "output_type": "execute_result"
    }
   ],
   "source": [
    "words"
   ]
  },
  {
   "cell_type": "code",
   "execution_count": 60,
   "id": "a3512545-d26d-4421-ac2c-9005f8375567",
   "metadata": {
    "tags": []
   },
   "outputs": [],
   "source": [
    "words_iter = iter(words)"
   ]
  },
  {
   "cell_type": "code",
   "execution_count": 61,
   "id": "3174f5e8-06e3-4f1b-88a6-d8bc380204b7",
   "metadata": {
    "tags": []
   },
   "outputs": [
    {
     "data": {
      "text/plain": [
       "list_iterator"
      ]
     },
     "execution_count": 61,
     "metadata": {},
     "output_type": "execute_result"
    }
   ],
   "source": [
    "type(words_iter)"
   ]
  },
  {
   "cell_type": "code",
   "execution_count": 67,
   "id": "a109a5a7-3748-4749-a375-0e0443831d25",
   "metadata": {
    "tags": []
   },
   "outputs": [
    {
     "ename": "StopIteration",
     "evalue": "",
     "output_type": "error",
     "traceback": [
      "\u001b[0;31m---------------------------------------------------------------------------\u001b[0m",
      "\u001b[0;31mStopIteration\u001b[0m                             Traceback (most recent call last)",
      "Cell \u001b[0;32mIn[67], line 1\u001b[0m\n\u001b[0;32m----> 1\u001b[0m \u001b[38;5;28mnext\u001b[39m(words_iter)\n",
      "\u001b[0;31mStopIteration\u001b[0m: "
     ]
    }
   ],
   "source": [
    "next(words_iter)"
   ]
  },
  {
   "cell_type": "code",
   "execution_count": 51,
   "id": "1c0ea242-93cd-457a-91e7-ef1759524f66",
   "metadata": {
    "tags": []
   },
   "outputs": [
    {
     "data": {
      "text/plain": [
       "'is'"
      ]
     },
     "execution_count": 51,
     "metadata": {},
     "output_type": "execute_result"
    }
   ],
   "source": [
    "next(words_iter)"
   ]
  },
  {
   "cell_type": "code",
   "execution_count": 54,
   "id": "0b6096bf-5cd4-400a-8472-b03e09fb4958",
   "metadata": {
    "tags": []
   },
   "outputs": [
    {
     "ename": "StopIteration",
     "evalue": "",
     "output_type": "error",
     "traceback": [
      "\u001b[0;31m---------------------------------------------------------------------------\u001b[0m",
      "\u001b[0;31mStopIteration\u001b[0m                             Traceback (most recent call last)",
      "Cell \u001b[0;32mIn[54], line 1\u001b[0m\n\u001b[0;32m----> 1\u001b[0m \u001b[38;5;28mnext\u001b[39m(words_iter)\n",
      "\u001b[0;31mStopIteration\u001b[0m: "
     ]
    }
   ],
   "source": [
    "next(words_iter)"
   ]
  },
  {
   "cell_type": "code",
   "execution_count": 121,
   "id": "10f73308-b5b3-4282-a168-666efca75b0b",
   "metadata": {
    "tags": []
   },
   "outputs": [],
   "source": [
    "class myiterator:\n",
    "    def __init__(self, paths):\n",
    "        self.paths = paths\n",
    "        self.index = -1\n",
    "    def __next__(self):\n",
    "        self.index += 1\n",
    "        return \"basepath:/\" + self.paths[self.index]"
   ]
  },
  {
   "cell_type": "code",
   "execution_count": 122,
   "id": "6e17ce98-aadf-4cf4-8339-0a3740905fd7",
   "metadata": {
    "tags": []
   },
   "outputs": [],
   "source": [
    "i = myiterator([\"1.jpg\", \"2.jpg\", \"3.jpg\"])"
   ]
  },
  {
   "cell_type": "code",
   "execution_count": 123,
   "id": "bda5888a-4790-47d6-8d66-53e1cb4d3c94",
   "metadata": {
    "tags": []
   },
   "outputs": [
    {
     "data": {
      "text/plain": [
       "'basepath:/1.jpg'"
      ]
     },
     "execution_count": 123,
     "metadata": {},
     "output_type": "execute_result"
    }
   ],
   "source": [
    "next(i)"
   ]
  },
  {
   "cell_type": "code",
   "execution_count": 124,
   "id": "4db2f010-3bdb-43f2-bcd8-0efe512f83fa",
   "metadata": {
    "tags": []
   },
   "outputs": [
    {
     "data": {
      "text/plain": [
       "'basepath:/2.jpg'"
      ]
     },
     "execution_count": 124,
     "metadata": {},
     "output_type": "execute_result"
    }
   ],
   "source": [
    "i.__next__()"
   ]
  },
  {
   "cell_type": "code",
   "execution_count": null,
   "id": "f5d6614a-a183-40e4-b044-cbd00011d5c8",
   "metadata": {},
   "outputs": [],
   "source": []
  }
 ],
 "metadata": {
  "kernelspec": {
   "display_name": "Python 3 (ipykernel)",
   "language": "python",
   "name": "python3"
  },
  "language_info": {
   "codemirror_mode": {
    "name": "ipython",
    "version": 3
   },
   "file_extension": ".py",
   "mimetype": "text/x-python",
   "name": "python",
   "nbconvert_exporter": "python",
   "pygments_lexer": "ipython3",
   "version": "3.11.5"
  }
 },
 "nbformat": 4,
 "nbformat_minor": 5
}
