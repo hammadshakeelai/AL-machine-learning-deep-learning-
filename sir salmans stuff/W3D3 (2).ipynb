{
 "cells": [
  {
   "cell_type": "code",
   "execution_count": 4,
   "id": "96a6580b-9be9-4900-9f85-15d738c9aa77",
   "metadata": {
    "tags": []
   },
   "outputs": [
    {
     "name": "stdout",
     "output_type": "stream",
     "text": [
      "numpy                     1.24.3          py311h08b1b3b_1  \n",
      "numpy-base                1.24.3          py311hf175353_1  \n",
      "numpydoc                  1.5.0           py311h06a4308_0  \n"
     ]
    }
   ],
   "source": [
    "!conda list | grep numpy"
   ]
  },
  {
   "cell_type": "code",
   "execution_count": 6,
   "id": "3bec59f0-8ab2-4b52-b9e9-05a097ddabbb",
   "metadata": {
    "tags": []
   },
   "outputs": [
    {
     "name": "stdout",
     "output_type": "stream",
     "text": [
      "conda 23.7.4\n"
     ]
    }
   ],
   "source": [
    "!conda --version"
   ]
  },
  {
   "cell_type": "code",
   "execution_count": 11,
   "id": "50b92095-585f-44db-8130-9451fe13c4c8",
   "metadata": {
    "tags": []
   },
   "outputs": [
    {
     "name": "stdout",
     "output_type": "stream",
     "text": [
      "numpy                                    1.24.3\n",
      "numpydoc                                 1.5.0\n"
     ]
    }
   ],
   "source": [
    "!python -m pip list | grep numpy"
   ]
  },
  {
   "cell_type": "code",
   "execution_count": 13,
   "id": "457c91c4-d494-4afc-9f9f-24f8e2c56ed6",
   "metadata": {
    "tags": []
   },
   "outputs": [
    {
     "name": "stdout",
     "output_type": "stream",
     "text": [
      "/bin/bash: line 1: /home/noname/.local/bin/pip: cannot execute: required file not found\n"
     ]
    }
   ],
   "source": [
    "!pip install numpy"
   ]
  },
  {
   "cell_type": "code",
   "execution_count": 22,
   "id": "757b7382-cfb3-41ba-af8b-8b388d82f496",
   "metadata": {
    "tags": []
   },
   "outputs": [],
   "source": [
    "import numpy as np"
   ]
  },
  {
   "cell_type": "code",
   "execution_count": 20,
   "id": "a1fa6363-3b71-4c8f-9a2b-81aba63688db",
   "metadata": {
    "tags": []
   },
   "outputs": [],
   "source": [
    "a = 0"
   ]
  },
  {
   "cell_type": "code",
   "execution_count": 36,
   "id": "4532345e-1628-4645-86bc-9bf9aced1d75",
   "metadata": {
    "tags": []
   },
   "outputs": [],
   "source": [
    "p_list = [1.5, 2, 3, \"4\"]\n",
    "array = np.array(p_list)"
   ]
  },
  {
   "cell_type": "code",
   "execution_count": 37,
   "id": "712ee6f6-bec3-4d2a-b038-e08b0dbd3be3",
   "metadata": {
    "tags": []
   },
   "outputs": [
    {
     "name": "stdout",
     "output_type": "stream",
     "text": [
      "['1.5' '2' '3' '4']\n"
     ]
    }
   ],
   "source": [
    "print(array)"
   ]
  },
  {
   "cell_type": "code",
   "execution_count": 38,
   "id": "52f11b37-5bf2-473b-90a6-ca4493f35d56",
   "metadata": {
    "tags": []
   },
   "outputs": [
    {
     "data": {
      "text/plain": [
       "numpy.ndarray"
      ]
     },
     "execution_count": 38,
     "metadata": {},
     "output_type": "execute_result"
    }
   ],
   "source": [
    "type(array)"
   ]
  },
  {
   "cell_type": "code",
   "execution_count": 56,
   "id": "d390d941-5934-4e4b-bdef-455f889b394c",
   "metadata": {
    "tags": []
   },
   "outputs": [],
   "source": [
    "p_list = [[[1,2],\n",
    "          [12,2],\n",
    "          [13,1],\n",
    "          [4, 1],\n",
    "          [9, 3],\n",
    "          [67,1]]]\n",
    "array = np.array(p_list)"
   ]
  },
  {
   "cell_type": "code",
   "execution_count": 57,
   "id": "d96c598e-a8a7-4f7e-97eb-160aaa0a6332",
   "metadata": {
    "tags": []
   },
   "outputs": [
    {
     "data": {
      "text/plain": [
       "(1, 6, 2)"
      ]
     },
     "execution_count": 57,
     "metadata": {},
     "output_type": "execute_result"
    }
   ],
   "source": [
    "array.shape"
   ]
  },
  {
   "cell_type": "code",
   "execution_count": 68,
   "id": "16597b7a-0aee-454a-b305-f36d1adad728",
   "metadata": {
    "tags": []
   },
   "outputs": [],
   "source": [
    "ones = np.ones((32, 3, 3), dtype=\"float32\")"
   ]
  },
  {
   "cell_type": "code",
   "execution_count": 69,
   "id": "ae0a95dc-daa8-41a7-8ba9-cb0a271a9f0e",
   "metadata": {
    "tags": []
   },
   "outputs": [
    {
     "data": {
      "text/plain": [
       "(32, 3, 3)"
      ]
     },
     "execution_count": 69,
     "metadata": {},
     "output_type": "execute_result"
    }
   ],
   "source": [
    "ones.shape"
   ]
  },
  {
   "cell_type": "code",
   "execution_count": 78,
   "id": "c13b12ff-e52a-4669-a323-d0789fa66cf9",
   "metadata": {
    "tags": []
   },
   "outputs": [],
   "source": [
    "zeroes = np.zeros([2,2], dtype='int8')"
   ]
  },
  {
   "cell_type": "code",
   "execution_count": 79,
   "id": "a40e9d6f-2573-4d1f-a85d-70507817591f",
   "metadata": {
    "tags": []
   },
   "outputs": [
    {
     "data": {
      "text/plain": [
       "array([[0, 0],\n",
       "       [0, 0]], dtype=int8)"
      ]
     },
     "execution_count": 79,
     "metadata": {},
     "output_type": "execute_result"
    }
   ],
   "source": [
    "zeroes"
   ]
  },
  {
   "cell_type": "code",
   "execution_count": 90,
   "id": "8c75b678-1700-41f3-a5dd-5e221d69fd15",
   "metadata": {
    "tags": []
   },
   "outputs": [],
   "source": [
    "white_img = np.full((10,10, 1), 56)"
   ]
  },
  {
   "cell_type": "code",
   "execution_count": 97,
   "id": "4992ed3e-15f8-4487-9d86-109d1768058c",
   "metadata": {
    "tags": []
   },
   "outputs": [
    {
     "data": {
      "text/plain": [
       "array([[1., 0., 0., 0., 0.],\n",
       "       [0., 1., 0., 0., 0.],\n",
       "       [0., 0., 1., 0., 0.],\n",
       "       [0., 0., 0., 1., 0.],\n",
       "       [0., 0., 0., 0., 1.]])"
      ]
     },
     "execution_count": 97,
     "metadata": {},
     "output_type": "execute_result"
    }
   ],
   "source": [
    "np.eye(5, 5)"
   ]
  },
  {
   "cell_type": "code",
   "execution_count": 101,
   "id": "aa7e9b06-1d1d-4da8-b0c1-dd24b03cf198",
   "metadata": {
    "tags": []
   },
   "outputs": [
    {
     "data": {
      "text/plain": [
       "[0, 3, 6, 9]"
      ]
     },
     "execution_count": 101,
     "metadata": {},
     "output_type": "execute_result"
    }
   ],
   "source": [
    "list(range(0, 10, 3))"
   ]
  },
  {
   "cell_type": "code",
   "execution_count": null,
   "id": "05ecd67f-4bcb-4879-83ee-9c09f9eb32da",
   "metadata": {},
   "outputs": [],
   "source": []
  },
  {
   "cell_type": "code",
   "execution_count": 108,
   "id": "2595922e-065c-4c7f-b9e8-a57734df4d5f",
   "metadata": {
    "tags": []
   },
   "outputs": [
    {
     "data": {
      "text/plain": [
       "array([10, 11, 12, 13, 14, 15, 16, 17, 18, 19])"
      ]
     },
     "execution_count": 108,
     "metadata": {},
     "output_type": "execute_result"
    }
   ],
   "source": [
    "numbers = np.arange(10, 20, 1)\n",
    "numbers"
   ]
  },
  {
   "cell_type": "code",
   "execution_count": 111,
   "id": "197e8865-a367-4ff7-bd82-bf07cc5d718b",
   "metadata": {
    "tags": []
   },
   "outputs": [
    {
     "name": "stdout",
     "output_type": "stream",
     "text": [
      "[0 2 4 6 8]\n"
     ]
    },
    {
     "data": {
      "text/plain": [
       "array([10, 12, 14, 16, 18])"
      ]
     },
     "execution_count": 111,
     "metadata": {},
     "output_type": "execute_result"
    }
   ],
   "source": [
    "even_indexes = np.arange(0, 10, 2)\n",
    "print(even_indexes)\n",
    "numbers[even_indexes]"
   ]
  },
  {
   "cell_type": "code",
   "execution_count": 123,
   "id": "02ad8e47-8d3d-47b2-acad-47a077253bce",
   "metadata": {
    "tags": []
   },
   "outputs": [
    {
     "data": {
      "text/plain": [
       "array([10.        , 10.26315789, 10.52631579, 10.78947368, 11.05263158,\n",
       "       11.31578947, 11.57894737, 11.84210526, 12.10526316, 12.36842105,\n",
       "       12.63157895, 12.89473684, 13.15789474, 13.42105263, 13.68421053,\n",
       "       13.94736842, 14.21052632, 14.47368421, 14.73684211, 15.        ])"
      ]
     },
     "execution_count": 123,
     "metadata": {},
     "output_type": "execute_result"
    }
   ],
   "source": [
    "np.linspace(10, 15, 20)"
   ]
  },
  {
   "cell_type": "code",
   "execution_count": 129,
   "id": "edd57754-fc32-4540-8d83-e6c2515b47bf",
   "metadata": {
    "collapsed": true,
    "jupyter": {
     "outputs_hidden": true
    },
    "tags": []
   },
   "outputs": [
    {
     "data": {
      "text/plain": [
       "array([[[[0.17405058],\n",
       "         [0.03703419],\n",
       "         [0.61171075]],\n",
       "\n",
       "        [[0.03823312],\n",
       "         [0.51279793],\n",
       "         [0.87031459]],\n",
       "\n",
       "        [[0.4796774 ],\n",
       "         [0.94590775],\n",
       "         [0.30791233]]],\n",
       "\n",
       "\n",
       "       [[[0.17543612],\n",
       "         [0.94155054],\n",
       "         [0.48889446]],\n",
       "\n",
       "        [[0.61468316],\n",
       "         [0.02816984],\n",
       "         [0.85493447]],\n",
       "\n",
       "        [[0.18424219],\n",
       "         [0.47405012],\n",
       "         [0.80527757]]],\n",
       "\n",
       "\n",
       "       [[[0.61557963],\n",
       "         [0.45126155],\n",
       "         [0.18226231]],\n",
       "\n",
       "        [[0.79450301],\n",
       "         [0.75694602],\n",
       "         [0.82453315]],\n",
       "\n",
       "        [[0.85201441],\n",
       "         [0.41700641],\n",
       "         [0.23309268]]]])"
      ]
     },
     "execution_count": 129,
     "metadata": {},
     "output_type": "execute_result"
    }
   ],
   "source": [
    "np.random.rand(3, 3, 3, 1)"
   ]
  },
  {
   "cell_type": "code",
   "execution_count": 141,
   "id": "911896ea-b874-4208-a57e-f56519a098d5",
   "metadata": {
    "tags": []
   },
   "outputs": [],
   "source": [
    "random_ints = np.random.randint(5, 128, size=(5,6), dtype='int8')"
   ]
  },
  {
   "cell_type": "code",
   "execution_count": 142,
   "id": "e8cbb8be-a3c3-4f21-84c7-60e9eaa255ba",
   "metadata": {
    "tags": []
   },
   "outputs": [
    {
     "data": {
      "text/plain": [
       "dtype('int8')"
      ]
     },
     "execution_count": 142,
     "metadata": {},
     "output_type": "execute_result"
    }
   ],
   "source": [
    "random_ints.dtype"
   ]
  },
  {
   "cell_type": "code",
   "execution_count": 145,
   "id": "7b07305b-e817-4496-9748-4b2c0fed75d4",
   "metadata": {
    "tags": []
   },
   "outputs": [],
   "source": [
    "random_ = np.random.randn(5, 3)"
   ]
  },
  {
   "cell_type": "code",
   "execution_count": 146,
   "id": "28d69f28-cad5-4a75-ae2a-10b1ae4497f7",
   "metadata": {
    "tags": []
   },
   "outputs": [
    {
     "data": {
      "text/plain": [
       "-0.10046964377298098"
      ]
     },
     "execution_count": 146,
     "metadata": {},
     "output_type": "execute_result"
    }
   ],
   "source": [
    "random_.mean()"
   ]
  },
  {
   "cell_type": "code",
   "execution_count": 147,
   "id": "49dfca51-65fc-4af0-8f45-910e161f5e8c",
   "metadata": {
    "tags": []
   },
   "outputs": [
    {
     "data": {
      "text/plain": [
       "1.0016636517019655"
      ]
     },
     "execution_count": 147,
     "metadata": {},
     "output_type": "execute_result"
    }
   ],
   "source": [
    "random_.std()"
   ]
  },
  {
   "cell_type": "code",
   "execution_count": 148,
   "id": "3c26a8a4-8584-4d53-b0b8-01fdb3fb8fe7",
   "metadata": {
    "tags": []
   },
   "outputs": [
    {
     "data": {
      "text/plain": [
       "dtype('float64')"
      ]
     },
     "execution_count": 148,
     "metadata": {},
     "output_type": "execute_result"
    }
   ],
   "source": [
    "random_.dtype"
   ]
  },
  {
   "cell_type": "code",
   "execution_count": 151,
   "id": "c2fc5698-b8b0-4ce6-8c19-0e555496a473",
   "metadata": {
    "tags": []
   },
   "outputs": [
    {
     "data": {
      "text/plain": [
       "array([0, 9, 1, 1, 8])"
      ]
     },
     "execution_count": 151,
     "metadata": {},
     "output_type": "execute_result"
    }
   ],
   "source": [
    "\n",
    "np.random.randint(0, 10, size=5)"
   ]
  },
  {
   "cell_type": "code",
   "execution_count": 175,
   "id": "e28b62a7-1f75-4005-b673-c7ea58da075c",
   "metadata": {
    "tags": []
   },
   "outputs": [
    {
     "data": {
      "text/plain": [
       "array([8, 8, 3, 7, 7])"
      ]
     },
     "execution_count": 175,
     "metadata": {},
     "output_type": "execute_result"
    }
   ],
   "source": [
    "np.random.seed(100)\n",
    "np.random.randint(0, 10, size=5)"
   ]
  },
  {
   "cell_type": "code",
   "execution_count": 176,
   "id": "0113796a-097d-4ce2-aeb4-b84e523bb7ca",
   "metadata": {
    "tags": []
   },
   "outputs": [
    {
     "data": {
      "text/plain": [
       "array([0, 4, 2, 5, 2])"
      ]
     },
     "execution_count": 176,
     "metadata": {},
     "output_type": "execute_result"
    }
   ],
   "source": [
    "np.random.randint(0, 10, size=5)"
   ]
  },
  {
   "cell_type": "code",
   "execution_count": 180,
   "id": "5162bc4c-5ead-4954-b9d1-849002de40c5",
   "metadata": {
    "tags": []
   },
   "outputs": [
    {
     "data": {
      "text/plain": [
       "array([8, 8, 3, 7, 7])"
      ]
     },
     "execution_count": 180,
     "metadata": {},
     "output_type": "execute_result"
    }
   ],
   "source": [
    "np.random.seed(100)\n",
    "np.random.randint(0, 10, size=5)"
   ]
  },
  {
   "cell_type": "code",
   "execution_count": 178,
   "id": "8c0220b6-b5ef-4ac7-87a9-4bcd43fc3abf",
   "metadata": {
    "tags": []
   },
   "outputs": [
    {
     "data": {
      "text/plain": [
       "array([0, 4, 2, 5, 2])"
      ]
     },
     "execution_count": 178,
     "metadata": {},
     "output_type": "execute_result"
    }
   ],
   "source": [
    "np.random.randint(0, 10, size=5)"
   ]
  },
  {
   "cell_type": "code",
   "execution_count": 182,
   "id": "d5ca2bd2-4a02-443f-abc8-58d68cc1c20e",
   "metadata": {
    "tags": []
   },
   "outputs": [
    {
     "data": {
      "text/plain": [
       "(3,)"
      ]
     },
     "execution_count": 182,
     "metadata": {},
     "output_type": "execute_result"
    }
   ],
   "source": [
    "a = np.array([1, 2, 3])  \n",
    "a.shape"
   ]
  },
  {
   "cell_type": "code",
   "execution_count": 184,
   "id": "65884113-d92e-4b1c-8d12-cb24cb06fcd1",
   "metadata": {
    "tags": []
   },
   "outputs": [
    {
     "name": "stdout",
     "output_type": "stream",
     "text": [
      "[ 5 10 15]\n"
     ]
    }
   ],
   "source": [
    "a = np.array([1, 2, 3])  \n",
    "b = 5                   \n",
    "print(a * b)  # Output: [6 7 8]"
   ]
  },
  {
   "cell_type": "code",
   "execution_count": 208,
   "id": "6ed9a2dc-06d3-4162-835c-16e83ae9a791",
   "metadata": {
    "tags": []
   },
   "outputs": [
    {
     "data": {
      "text/plain": [
       "(3, 2)"
      ]
     },
     "execution_count": 208,
     "metadata": {},
     "output_type": "execute_result"
    }
   ],
   "source": [
    "a = np.array([[1, 2], [2, 2], [3, 2]])   # Shape: (3, 1)\n",
    "a.shape"
   ]
  },
  {
   "cell_type": "code",
   "execution_count": 213,
   "id": "0fdf363b-af2b-4a45-a408-e2688818bb0c",
   "metadata": {
    "tags": []
   },
   "outputs": [
    {
     "data": {
      "text/plain": [
       "(2,)"
      ]
     },
     "execution_count": 213,
     "metadata": {},
     "output_type": "execute_result"
    }
   ],
   "source": [
    "b = np.array([ 20, 30])  \t# Shape: (3,)\n",
    "b.shape"
   ]
  },
  {
   "cell_type": "code",
   "execution_count": 214,
   "id": "161d4617-3bd3-4ecf-a47a-0ac809badf8e",
   "metadata": {
    "tags": []
   },
   "outputs": [],
   "source": [
    "# Broadcast shapes: (3, 1) + (1, 3) => (3, 3)\n",
    "result = a + b"
   ]
  },
  {
   "cell_type": "code",
   "execution_count": 215,
   "id": "1265b6fc-99d1-4375-8fbd-73daa55523ea",
   "metadata": {
    "tags": []
   },
   "outputs": [
    {
     "data": {
      "text/plain": [
       "(3, 2)"
      ]
     },
     "execution_count": 215,
     "metadata": {},
     "output_type": "execute_result"
    }
   ],
   "source": [
    "result.shape"
   ]
  },
  {
   "cell_type": "code",
   "execution_count": 216,
   "id": "6b2c5cfc-c6e2-4144-96ab-d5d420be9fcb",
   "metadata": {
    "tags": []
   },
   "outputs": [
    {
     "data": {
      "text/plain": [
       "array([[21, 32],\n",
       "       [22, 32],\n",
       "       [23, 32]])"
      ]
     },
     "execution_count": 216,
     "metadata": {},
     "output_type": "execute_result"
    }
   ],
   "source": [
    "result"
   ]
  },
  {
   "cell_type": "code",
   "execution_count": 195,
   "id": "75b5631c-4ae6-419d-ab64-c4d893ae0d33",
   "metadata": {
    "tags": []
   },
   "outputs": [
    {
     "data": {
      "text/plain": [
       "array([[11, 21, 31],\n",
       "       [12, 22, 32],\n",
       "       [13, 23, 33]])"
      ]
     },
     "execution_count": 195,
     "metadata": {},
     "output_type": "execute_result"
    }
   ],
   "source": [
    "result"
   ]
  },
  {
   "cell_type": "code",
   "execution_count": 198,
   "id": "80f63007-fe88-4899-bb02-2ff37cd02a33",
   "metadata": {
    "tags": []
   },
   "outputs": [
    {
     "data": {
      "text/plain": [
       "array([[10, 20, 30],\n",
       "       [20, 40, 60],\n",
       "       [30, 60, 90]])"
      ]
     },
     "execution_count": 198,
     "metadata": {},
     "output_type": "execute_result"
    }
   ],
   "source": [
    "a * b"
   ]
  },
  {
   "cell_type": "code",
   "execution_count": 218,
   "id": "683d5889-1fb5-4f89-969a-3f3459d1709e",
   "metadata": {
    "tags": []
   },
   "outputs": [
    {
     "data": {
      "text/plain": [
       "array([[1, 2],\n",
       "       [2, 2],\n",
       "       [3, 2]])"
      ]
     },
     "execution_count": 218,
     "metadata": {},
     "output_type": "execute_result"
    }
   ],
   "source": [
    "a"
   ]
  },
  {
   "cell_type": "code",
   "execution_count": 221,
   "id": "2455fce3-0c3c-42a4-ac96-66bece3fa8a9",
   "metadata": {
    "tags": []
   },
   "outputs": [],
   "source": [
    "a = np.arange(0, 10, 1)"
   ]
  },
  {
   "cell_type": "code",
   "execution_count": 222,
   "id": "c3f2396d-5d63-4a89-a124-7b4ec8798f1a",
   "metadata": {
    "tags": []
   },
   "outputs": [
    {
     "name": "stdout",
     "output_type": "stream",
     "text": [
      "[0 1 2 3 4 5 6 7 8 9]\n"
     ]
    }
   ],
   "source": [
    "print(a)"
   ]
  },
  {
   "cell_type": "code",
   "execution_count": 224,
   "id": "d50b18e9-0c40-456b-b141-a8f5df330099",
   "metadata": {
    "tags": []
   },
   "outputs": [
    {
     "data": {
      "text/plain": [
       "array([1, 3])"
      ]
     },
     "execution_count": 224,
     "metadata": {},
     "output_type": "execute_result"
    }
   ],
   "source": [
    "a[1:5: 2]"
   ]
  },
  {
   "cell_type": "code",
   "execution_count": 236,
   "id": "e158f8fd-f8e8-480d-b2ca-82be7d141168",
   "metadata": {
    "tags": []
   },
   "outputs": [
    {
     "data": {
      "text/plain": [
       "array([9, 8, 7, 6, 5, 4, 3, 2, 1, 0])"
      ]
     },
     "execution_count": 236,
     "metadata": {},
     "output_type": "execute_result"
    }
   ],
   "source": [
    "a[::-1]"
   ]
  },
  {
   "cell_type": "code",
   "execution_count": 286,
   "id": "4730279d-1436-447c-80c4-a53f60a95dc8",
   "metadata": {
    "tags": []
   },
   "outputs": [
    {
     "data": {
      "text/plain": [
       "array([[ -4,   0, -10,  -8,   9],\n",
       "       [ -6,   8,  -6,  -7,  -1],\n",
       "       [  6,   6,  -4,  -5,  -4],\n",
       "       [ -3,   1,   9,  -8,   9],\n",
       "       [  7,   3,  -5,   3,  -7]])"
      ]
     },
     "execution_count": 286,
     "metadata": {},
     "output_type": "execute_result"
    }
   ],
   "source": [
    "a = np.random.randint(-10, 10, size=(5,5))\n",
    "a"
   ]
  },
  {
   "cell_type": "code",
   "execution_count": 287,
   "id": "30c6f06b-08eb-42ba-97c4-792a767816a0",
   "metadata": {
    "tags": []
   },
   "outputs": [],
   "source": [
    "a[1:4,1:4] = 5"
   ]
  },
  {
   "cell_type": "code",
   "execution_count": 288,
   "id": "3cd0ae33-eabb-4da4-a047-478e3b62d5af",
   "metadata": {
    "tags": []
   },
   "outputs": [
    {
     "data": {
      "text/plain": [
       "array([[ -4,   0, -10,  -8,   9],\n",
       "       [ -6,   5,   5,   5,  -1],\n",
       "       [  6,   5,   5,   5,  -4],\n",
       "       [ -3,   5,   5,   5,   9],\n",
       "       [  7,   3,  -5,   3,  -7]])"
      ]
     },
     "execution_count": 288,
     "metadata": {},
     "output_type": "execute_result"
    }
   ],
   "source": [
    "a"
   ]
  },
  {
   "cell_type": "code",
   "execution_count": 289,
   "id": "f3ceb4f3-e797-469f-b15f-069669e31200",
   "metadata": {
    "tags": []
   },
   "outputs": [
    {
     "data": {
      "text/plain": [
       "array([[ True,  True,  True,  True, False],\n",
       "       [ True, False, False, False, False],\n",
       "       [ True, False, False, False,  True],\n",
       "       [False, False, False, False, False],\n",
       "       [False, False, False, False, False]])"
      ]
     },
     "execution_count": 289,
     "metadata": {},
     "output_type": "execute_result"
    }
   ],
   "source": [
    "a % 2 == 0"
   ]
  },
  {
   "cell_type": "code",
   "execution_count": 291,
   "id": "09e4f60a-1618-43d9-ae9f-ad01c9063134",
   "metadata": {
    "tags": []
   },
   "outputs": [
    {
     "data": {
      "text/plain": [
       "array([9, 5, 5, 5, 6, 5, 5, 5, 5, 5, 5, 9, 7, 3, 3])"
      ]
     },
     "execution_count": 291,
     "metadata": {},
     "output_type": "execute_result"
    }
   ],
   "source": [
    "a[a > 0]"
   ]
  },
  {
   "cell_type": "code",
   "execution_count": 295,
   "id": "99a9a389-9269-4c5d-adbf-ebda48f4a356",
   "metadata": {
    "tags": []
   },
   "outputs": [],
   "source": [
    "a[a < 0] = 0"
   ]
  },
  {
   "cell_type": "code",
   "execution_count": 296,
   "id": "b95aa4c4-f854-4b34-898a-3d24f09a78ac",
   "metadata": {
    "tags": []
   },
   "outputs": [
    {
     "data": {
      "text/plain": [
       "array([[0, 0, 0, 0, 9],\n",
       "       [0, 5, 5, 5, 0],\n",
       "       [6, 5, 5, 5, 0],\n",
       "       [0, 5, 5, 5, 9],\n",
       "       [7, 3, 0, 3, 0]])"
      ]
     },
     "execution_count": 296,
     "metadata": {},
     "output_type": "execute_result"
    }
   ],
   "source": [
    "a"
   ]
  },
  {
   "cell_type": "code",
   "execution_count": 302,
   "id": "cf8cd34c-d1ea-458d-a37a-344c6c151ffc",
   "metadata": {
    "tags": []
   },
   "outputs": [
    {
     "data": {
      "text/plain": [
       "array([[1., 1., 1., 1., 1., 1.],\n",
       "       [1., 1., 1., 1., 1., 1.],\n",
       "       [1., 1., 1., 1., 1., 1.],\n",
       "       [1., 1., 1., 1., 1., 1.],\n",
       "       [1., 1., 1., 1., 1., 1.],\n",
       "       [1., 1., 1., 1., 1., 1.]])"
      ]
     },
     "execution_count": 302,
     "metadata": {},
     "output_type": "execute_result"
    }
   ],
   "source": [
    "a = np.ones((6,6))\n",
    "a"
   ]
  },
  {
   "cell_type": "code",
   "execution_count": 303,
   "id": "9635d6a1-5ec8-4eca-b859-7adce1ffe4bb",
   "metadata": {
    "tags": []
   },
   "outputs": [
    {
     "data": {
      "text/plain": [
       "array([[1., 1., 1.],\n",
       "       [1., 1., 1.],\n",
       "       [1., 1., 1.],\n",
       "       [1., 1., 1.],\n",
       "       [1., 1., 1.],\n",
       "       [1., 1., 1.],\n",
       "       [1., 1., 1.],\n",
       "       [1., 1., 1.],\n",
       "       [1., 1., 1.],\n",
       "       [1., 1., 1.],\n",
       "       [1., 1., 1.],\n",
       "       [1., 1., 1.]])"
      ]
     },
     "execution_count": 303,
     "metadata": {},
     "output_type": "execute_result"
    }
   ],
   "source": [
    "a.reshape((12, 3))"
   ]
  },
  {
   "cell_type": "code",
   "execution_count": 309,
   "id": "012ba30f-2f8e-490f-ad14-44f31affedfc",
   "metadata": {
    "tags": []
   },
   "outputs": [
    {
     "data": {
      "text/plain": [
       "array([[[[1., 1., 1.],\n",
       "         [1., 1., 1.]],\n",
       "\n",
       "        [[1., 1., 1.],\n",
       "         [1., 1., 1.]],\n",
       "\n",
       "        [[1., 1., 1.],\n",
       "         [1., 1., 1.]]],\n",
       "\n",
       "\n",
       "       [[[1., 1., 1.],\n",
       "         [1., 1., 1.]],\n",
       "\n",
       "        [[1., 1., 1.],\n",
       "         [1., 1., 1.]],\n",
       "\n",
       "        [[1., 1., 1.],\n",
       "         [1., 1., 1.]]]])"
      ]
     },
     "execution_count": 309,
     "metadata": {},
     "output_type": "execute_result"
    }
   ],
   "source": [
    "a.reshape((2, 3, 2, 3))"
   ]
  },
  {
   "cell_type": "code",
   "execution_count": 310,
   "id": "f12a9fb2-0de2-4dc5-9800-e7b2aa0eeae7",
   "metadata": {
    "tags": []
   },
   "outputs": [
    {
     "data": {
      "text/plain": [
       "1.0"
      ]
     },
     "execution_count": 310,
     "metadata": {},
     "output_type": "execute_result"
    }
   ],
   "source": [
    "a.max()"
   ]
  },
  {
   "cell_type": "code",
   "execution_count": 311,
   "id": "09c8d92c-4ec5-4cd4-a827-76b9dd7df1b3",
   "metadata": {
    "tags": []
   },
   "outputs": [
    {
     "data": {
      "text/plain": [
       "1.0"
      ]
     },
     "execution_count": 311,
     "metadata": {},
     "output_type": "execute_result"
    }
   ],
   "source": [
    "a.min()"
   ]
  },
  {
   "cell_type": "code",
   "execution_count": 315,
   "id": "b67a94a1-2e98-4cd1-9f45-6864a4a9043a",
   "metadata": {
    "tags": []
   },
   "outputs": [
    {
     "data": {
      "text/plain": [
       "0"
      ]
     },
     "execution_count": 315,
     "metadata": {},
     "output_type": "execute_result"
    }
   ],
   "source": [
    "a.argmin()"
   ]
  },
  {
   "cell_type": "code",
   "execution_count": 317,
   "id": "274f13d1-2728-4410-878f-3e18625df863",
   "metadata": {
    "tags": []
   },
   "outputs": [
    {
     "data": {
      "text/plain": [
       "0"
      ]
     },
     "execution_count": 317,
     "metadata": {},
     "output_type": "execute_result"
    }
   ],
   "source": [
    "a.argmax()"
   ]
  },
  {
   "cell_type": "code",
   "execution_count": 318,
   "id": "626b1faa-83cd-4dbf-b133-9fd2ce5cb73e",
   "metadata": {
    "tags": []
   },
   "outputs": [
    {
     "data": {
      "text/plain": [
       "(6, 6)"
      ]
     },
     "execution_count": 318,
     "metadata": {},
     "output_type": "execute_result"
    }
   ],
   "source": [
    "a.shape"
   ]
  },
  {
   "cell_type": "code",
   "execution_count": 319,
   "id": "f228a988-32e2-4095-a5e3-c0b9ef3192ff",
   "metadata": {
    "tags": []
   },
   "outputs": [
    {
     "data": {
      "text/plain": [
       "dtype('float64')"
      ]
     },
     "execution_count": 319,
     "metadata": {},
     "output_type": "execute_result"
    }
   ],
   "source": [
    "a.dtype"
   ]
  },
  {
   "cell_type": "code",
   "execution_count": 320,
   "id": "246b1862-237c-44ea-931c-6f65f0e61326",
   "metadata": {
    "tags": []
   },
   "outputs": [
    {
     "data": {
      "text/plain": [
       "36"
      ]
     },
     "execution_count": 320,
     "metadata": {},
     "output_type": "execute_result"
    }
   ],
   "source": [
    "a.size"
   ]
  },
  {
   "cell_type": "code",
   "execution_count": 321,
   "id": "9a17184a-7359-429a-b590-740ba12d9ba3",
   "metadata": {
    "tags": []
   },
   "outputs": [
    {
     "data": {
      "text/plain": [
       "2"
      ]
     },
     "execution_count": 321,
     "metadata": {},
     "output_type": "execute_result"
    }
   ],
   "source": [
    "a.ndim"
   ]
  },
  {
   "cell_type": "code",
   "execution_count": 324,
   "id": "52895c8c-4470-493a-b54a-56b46da5b874",
   "metadata": {
    "tags": []
   },
   "outputs": [
    {
     "data": {
      "text/plain": [
       "(6, 6)"
      ]
     },
     "execution_count": 324,
     "metadata": {},
     "output_type": "execute_result"
    }
   ],
   "source": [
    "a.shape"
   ]
  },
  {
   "cell_type": "code",
   "execution_count": 326,
   "id": "04757c0b-584e-4ed4-bedf-56ff64bf69c7",
   "metadata": {
    "tags": []
   },
   "outputs": [
    {
     "data": {
      "text/plain": [
       "(6, 6, 1)"
      ]
     },
     "execution_count": 326,
     "metadata": {},
     "output_type": "execute_result"
    }
   ],
   "source": [
    "np.expand_dims(a, axis=-1).shape"
   ]
  },
  {
   "cell_type": "code",
   "execution_count": 327,
   "id": "74357498-bdec-48cd-94ac-4ba3097280b6",
   "metadata": {
    "tags": []
   },
   "outputs": [],
   "source": [
    "images = np.empty((32, 512, 512))"
   ]
  },
  {
   "cell_type": "code",
   "execution_count": 329,
   "id": "8377c23c-ef31-4ac1-a1c4-edb135bf5d14",
   "metadata": {
    "tags": []
   },
   "outputs": [
    {
     "data": {
      "text/plain": [
       "(32, 512, 512)"
      ]
     },
     "execution_count": 329,
     "metadata": {},
     "output_type": "execute_result"
    }
   ],
   "source": [
    "images.shape"
   ]
  },
  {
   "cell_type": "code",
   "execution_count": 340,
   "id": "ef6831f4-d8b0-4602-ad68-b6140cb8e79e",
   "metadata": {
    "tags": []
   },
   "outputs": [
    {
     "data": {
      "text/plain": [
       "(32, 512, 512, 1)"
      ]
     },
     "execution_count": 340,
     "metadata": {},
     "output_type": "execute_result"
    }
   ],
   "source": [
    "new_images = np.expand_dims(images, axis=-1)\n",
    "new_images.shape"
   ]
  },
  {
   "cell_type": "code",
   "execution_count": 341,
   "id": "bbc60652-2bf7-4dc7-b9d9-296f46cc174d",
   "metadata": {
    "tags": []
   },
   "outputs": [
    {
     "data": {
      "text/plain": [
       "(32, 512, 512)"
      ]
     },
     "execution_count": 341,
     "metadata": {},
     "output_type": "execute_result"
    }
   ],
   "source": [
    "new_images.squeeze().shape"
   ]
  },
  {
   "cell_type": "code",
   "execution_count": null,
   "id": "264485a6-f563-4d4d-8fdf-5e9d20d43d7e",
   "metadata": {},
   "outputs": [],
   "source": []
  }
 ],
 "metadata": {
  "kernelspec": {
   "display_name": "Python 3 (ipykernel)",
   "language": "python",
   "name": "python3"
  },
  "language_info": {
   "codemirror_mode": {
    "name": "ipython",
    "version": 3
   },
   "file_extension": ".py",
   "mimetype": "text/x-python",
   "name": "python",
   "nbconvert_exporter": "python",
   "pygments_lexer": "ipython3",
   "version": "3.11.5"
  }
 },
 "nbformat": 4,
 "nbformat_minor": 5
}
