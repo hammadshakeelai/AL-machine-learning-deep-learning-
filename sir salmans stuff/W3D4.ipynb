{
 "cells": [
  {
   "cell_type": "code",
   "execution_count": 2,
   "id": "04144829-6a05-4d9f-a3e2-95a6ef159cb6",
   "metadata": {
    "tags": []
   },
   "outputs": [],
   "source": [
    "import numpy as np"
   ]
  },
  {
   "cell_type": "code",
   "execution_count": 3,
   "id": "fa4d50ba-afae-4685-b422-f52348e67c10",
   "metadata": {
    "tags": []
   },
   "outputs": [],
   "source": [
    "arr = np.random.randint(0, 255, size=(512, 512))"
   ]
  },
  {
   "cell_type": "code",
   "execution_count": 4,
   "id": "019083ad-90bb-4dc6-ad2e-54b96e018bf1",
   "metadata": {
    "tags": []
   },
   "outputs": [
    {
     "data": {
      "text/plain": [
       "array([[129, 182, 140, ..., 105, 215,  72],\n",
       "       [213, 144,  81, ..., 123,   2, 220],\n",
       "       [ 87,  65, 207, ..., 209, 148,  41],\n",
       "       ...,\n",
       "       [142, 248, 240, ...,  28, 215,  94],\n",
       "       [211,   2, 188, ..., 159,   2, 105],\n",
       "       [128, 162, 166, ...,  77, 139, 168]])"
      ]
     },
     "execution_count": 4,
     "metadata": {},
     "output_type": "execute_result"
    }
   ],
   "source": [
    "arr"
   ]
  },
  {
   "cell_type": "code",
   "execution_count": 5,
   "id": "47bcdeaa-6711-4198-996b-677727b4a7cc",
   "metadata": {
    "tags": []
   },
   "outputs": [],
   "source": [
    "np.save(\"rand_int.npy\", arr)"
   ]
  },
  {
   "cell_type": "code",
   "execution_count": 6,
   "id": "8ca4779e-4c8e-4beb-9f53-1dfb9e8318d0",
   "metadata": {
    "tags": []
   },
   "outputs": [],
   "source": [
    "arr2 = np.load(\"rand_int.npy\")"
   ]
  },
  {
   "cell_type": "code",
   "execution_count": 7,
   "id": "5b8ea527-b30b-4106-8441-5625e95167ba",
   "metadata": {
    "tags": []
   },
   "outputs": [
    {
     "data": {
      "text/plain": [
       "array([[129, 182, 140, ..., 105, 215,  72],\n",
       "       [213, 144,  81, ..., 123,   2, 220],\n",
       "       [ 87,  65, 207, ..., 209, 148,  41],\n",
       "       ...,\n",
       "       [142, 248, 240, ...,  28, 215,  94],\n",
       "       [211,   2, 188, ..., 159,   2, 105],\n",
       "       [128, 162, 166, ...,  77, 139, 168]])"
      ]
     },
     "execution_count": 7,
     "metadata": {},
     "output_type": "execute_result"
    }
   ],
   "source": [
    "arr2"
   ]
  },
  {
   "cell_type": "code",
   "execution_count": 8,
   "id": "6714d882-3b84-410c-a1b4-c18028235074",
   "metadata": {
    "tags": []
   },
   "outputs": [
    {
     "data": {
      "text/plain": [
       "numpy.ndarray"
      ]
     },
     "execution_count": 8,
     "metadata": {},
     "output_type": "execute_result"
    }
   ],
   "source": [
    "type(arr)"
   ]
  },
  {
   "cell_type": "code",
   "execution_count": 9,
   "id": "235f041c-7108-47cf-bac2-10bb30c83485",
   "metadata": {
    "tags": []
   },
   "outputs": [
    {
     "data": {
      "text/plain": [
       "numpy.ndarray"
      ]
     },
     "execution_count": 9,
     "metadata": {},
     "output_type": "execute_result"
    }
   ],
   "source": [
    "type(arr2)"
   ]
  },
  {
   "cell_type": "code",
   "execution_count": 10,
   "id": "7168fb97-2950-4c01-a460-8b347fd61e2b",
   "metadata": {
    "tags": []
   },
   "outputs": [
    {
     "data": {
      "text/plain": [
       "1.0"
      ]
     },
     "execution_count": 10,
     "metadata": {},
     "output_type": "execute_result"
    }
   ],
   "source": [
    "np.sum(arr == arr2) /(512 *512 ) "
   ]
  },
  {
   "cell_type": "code",
   "execution_count": 11,
   "id": "435eb086-10d6-40dc-a0a1-5c4e9219a802",
   "metadata": {
    "tags": []
   },
   "outputs": [
    {
     "data": {
      "text/plain": [
       "262144"
      ]
     },
     "execution_count": 11,
     "metadata": {},
     "output_type": "execute_result"
    }
   ],
   "source": [
    "512 * 512"
   ]
  },
  {
   "cell_type": "code",
   "execution_count": 12,
   "id": "b46ee331-2a06-4714-be0c-76df885f708c",
   "metadata": {
    "tags": []
   },
   "outputs": [],
   "source": [
    "np.savez(\"multi_ndarray.npz\", source=arr, target=arr * .75)"
   ]
  },
  {
   "cell_type": "code",
   "execution_count": 13,
   "id": "f9a38f03-d345-4bba-960d-16cacd161764",
   "metadata": {
    "tags": []
   },
   "outputs": [],
   "source": [
    "data = np.load(\"multi_ndarray.npz\")"
   ]
  },
  {
   "cell_type": "code",
   "execution_count": 14,
   "id": "a992ff0c-a71a-4ae7-bee2-e702c2697e2c",
   "metadata": {
    "tags": []
   },
   "outputs": [
    {
     "data": {
      "text/plain": [
       "array([[ 96.75, 136.5 , 105.  , ...,  78.75, 161.25,  54.  ],\n",
       "       [159.75, 108.  ,  60.75, ...,  92.25,   1.5 , 165.  ],\n",
       "       [ 65.25,  48.75, 155.25, ..., 156.75, 111.  ,  30.75],\n",
       "       ...,\n",
       "       [106.5 , 186.  , 180.  , ...,  21.  , 161.25,  70.5 ],\n",
       "       [158.25,   1.5 , 141.  , ..., 119.25,   1.5 ,  78.75],\n",
       "       [ 96.  , 121.5 , 124.5 , ...,  57.75, 104.25, 126.  ]])"
      ]
     },
     "execution_count": 14,
     "metadata": {},
     "output_type": "execute_result"
    }
   ],
   "source": [
    "data['target']"
   ]
  },
  {
   "cell_type": "code",
   "execution_count": 15,
   "id": "1bbf2d6f-f3cb-45d3-8878-422b9bfef0c3",
   "metadata": {
    "tags": []
   },
   "outputs": [
    {
     "data": {
      "text/plain": [
       "<numpy.lib.npyio.NpzFile at 0x7ff4793c9e50>"
      ]
     },
     "execution_count": 15,
     "metadata": {},
     "output_type": "execute_result"
    }
   ],
   "source": [
    "data"
   ]
  },
  {
   "cell_type": "code",
   "execution_count": 16,
   "id": "da75de1b-4d11-4faa-9c74-ff26cb16c668",
   "metadata": {
    "tags": []
   },
   "outputs": [],
   "source": [
    "columns = \",\".join([f\"col{i}\" for i in range(1, 513)])"
   ]
  },
  {
   "cell_type": "code",
   "execution_count": 17,
   "id": "0e9a2fcf-743c-4d26-9afd-21cf7d68d74c",
   "metadata": {
    "tags": []
   },
   "outputs": [],
   "source": [
    "np.savetxt(\"arr.csv\", arr, delimiter=\",\", header=columns)"
   ]
  },
  {
   "cell_type": "code",
   "execution_count": 18,
   "id": "f1882f23-3382-4718-8db2-befa4217028e",
   "metadata": {
    "tags": []
   },
   "outputs": [
    {
     "data": {
      "text/plain": [
       "<function numpy.savetxt(fname, X, fmt='%.18e', delimiter=' ', newline='\\n', header='', footer='', comments='# ', encoding=None)>"
      ]
     },
     "execution_count": 18,
     "metadata": {},
     "output_type": "execute_result"
    }
   ],
   "source": [
    "np.savetxt"
   ]
  },
  {
   "cell_type": "code",
   "execution_count": 19,
   "id": "ed71e7d6-ffb0-4d0d-89e7-4cc4a6319513",
   "metadata": {
    "tags": []
   },
   "outputs": [
    {
     "data": {
      "text/plain": [
       "<function numpy.loadtxt(fname, dtype=<class 'float'>, comments='#', delimiter=None, converters=None, skiprows=0, usecols=None, unpack=False, ndmin=0, encoding='bytes', max_rows=None, *, quotechar=None, like=None)>"
      ]
     },
     "execution_count": 19,
     "metadata": {},
     "output_type": "execute_result"
    }
   ],
   "source": [
    "np.loadtxt"
   ]
  },
  {
   "cell_type": "code",
   "execution_count": 20,
   "id": "d9507ed9-66d1-46c4-a0c8-beb8959123f8",
   "metadata": {
    "tags": []
   },
   "outputs": [
    {
     "data": {
      "text/plain": [
       "(412,)"
      ]
     },
     "execution_count": 20,
     "metadata": {},
     "output_type": "execute_result"
    }
   ],
   "source": [
    "# np.loadtxt(\"arr.csv\", dtype=str)\n",
    "np.loadtxt('arr.csv', delimiter=\",\", skiprows=101, usecols=90).shape"
   ]
  },
  {
   "cell_type": "code",
   "execution_count": 67,
   "id": "12c91037-d7a3-4cd1-80b0-208c4aa964d3",
   "metadata": {
    "tags": []
   },
   "outputs": [
    {
     "data": {
      "text/plain": [
       "array([('hammad', 22, 'idk'), ('zaheer',  5, '6.5'),\n",
       "       ('taimur', 60, '5.2'), ('samad', 65, '3.5')],\n",
       "      dtype=[('name', '<U6'), ('age', '<i8'), ('height', '<U3')])"
      ]
     },
     "execution_count": 67,
     "metadata": {},
     "output_type": "execute_result"
    }
   ],
   "source": [
    "np.genfromtxt(\"arr.csv\",\n",
    "              delimiter=',',\n",
    "              names=True,\n",
    "             dtype=None,\n",
    "             encoding=None)"
   ]
  },
  {
   "cell_type": "code",
   "execution_count": 34,
   "id": "db3a62a2-32fa-49fb-9292-337b1bd553f4",
   "metadata": {
    "tags": []
   },
   "outputs": [
    {
     "data": {
      "text/plain": [
       "<function numpy.genfromtxt(fname, dtype=<class 'float'>, comments='#', delimiter=None, skip_header=0, skip_footer=0, converters=None, missing_values=None, filling_values=None, usecols=None, names=None, excludelist=None, deletechars=\" !#$%&'()*+,-./:;<=>?@[\\\\]^{|}~\", replace_space='_', autostrip=False, case_sensitive=True, defaultfmt='f%i', unpack=None, usemask=False, loose=True, invalid_raise=True, max_rows=None, encoding='bytes', *, ndmin=0, like=None)>"
      ]
     },
     "execution_count": 34,
     "metadata": {},
     "output_type": "execute_result"
    }
   ],
   "source": [
    "np.genfromtxt"
   ]
  },
  {
   "cell_type": "code",
   "execution_count": 68,
   "id": "3dbb95d8-3061-49fa-a16e-b022241dd8b8",
   "metadata": {
    "tags": []
   },
   "outputs": [
    {
     "data": {
      "text/plain": [
       "dtype('int64')"
      ]
     },
     "execution_count": 68,
     "metadata": {},
     "output_type": "execute_result"
    }
   ],
   "source": [
    "arr.dtype"
   ]
  },
  {
   "cell_type": "code",
   "execution_count": 70,
   "id": "2e656cbd-9034-414c-a7d2-e371ca238e88",
   "metadata": {
    "tags": []
   },
   "outputs": [
    {
     "data": {
      "text/plain": [
       "dtype('float64')"
      ]
     },
     "execution_count": 70,
     "metadata": {},
     "output_type": "execute_result"
    }
   ],
   "source": [
    "arr.astype('float64').dtype"
   ]
  },
  {
   "cell_type": "code",
   "execution_count": 71,
   "id": "9b6f0966-a7b8-402f-b8a3-f94173bf857e",
   "metadata": {
    "tags": []
   },
   "outputs": [],
   "source": [
    "arr2 = arr.astype('int8')"
   ]
  },
  {
   "cell_type": "code",
   "execution_count": 73,
   "id": "9a9ab601-9a4c-4e14-a3c0-6240445b3292",
   "metadata": {
    "tags": []
   },
   "outputs": [
    {
     "data": {
      "text/plain": [
       "dtype('int8')"
      ]
     },
     "execution_count": 73,
     "metadata": {},
     "output_type": "execute_result"
    }
   ],
   "source": [
    "arr2.dtype"
   ]
  },
  {
   "cell_type": "code",
   "execution_count": 75,
   "id": "19ee10a4-6f7a-4cdb-a384-45ffbb8e97b7",
   "metadata": {
    "tags": []
   },
   "outputs": [
    {
     "data": {
      "text/plain": [
       "array([[-127,  -74, -116, ...,  105,  -41,   72],\n",
       "       [ -43, -112,   81, ...,  123,    2,  -36],\n",
       "       [  87,   65,  -49, ...,  -47, -108,   41],\n",
       "       ...,\n",
       "       [-114,   -8,  -16, ...,   28,  -41,   94],\n",
       "       [ -45,    2,  -68, ...,  -97,    2,  105],\n",
       "       [-128,  -94,  -90, ...,   77, -117,  -88]], dtype=int8)"
      ]
     },
     "execution_count": 75,
     "metadata": {},
     "output_type": "execute_result"
    }
   ],
   "source": [
    "arr2"
   ]
  },
  {
   "cell_type": "code",
   "execution_count": 76,
   "id": "6015b824-8ac0-4b2b-b7e8-3cc138879def",
   "metadata": {
    "tags": []
   },
   "outputs": [
    {
     "data": {
      "text/plain": [
       "array([False, False,  True,  True,  True, False, False])"
      ]
     },
     "execution_count": 76,
     "metadata": {},
     "output_type": "execute_result"
    }
   ],
   "source": [
    "np.array([0, 0, 2, 3, 4, 0, 0]).astype(bool)"
   ]
  },
  {
   "cell_type": "code",
   "execution_count": 86,
   "id": "7d3a1a6a-1523-417b-951c-c7dba35d023e",
   "metadata": {
    "tags": []
   },
   "outputs": [
    {
     "data": {
      "text/plain": [
       "array([[2, 3, 3],\n",
       "       [2, 3, 3],\n",
       "       [4, 5, 5],\n",
       "       [5, 6, 6],\n",
       "       [6, 7, 7],\n",
       "       [2, 3, 3],\n",
       "       [2, 3, 3]])"
      ]
     },
     "execution_count": 86,
     "metadata": {},
     "output_type": "execute_result"
    }
   ],
   "source": [
    "\n",
    "\n",
    "np.array([[0], [0], [2], [3], [4], [0], [0]]) + np.array([2, 3, 3])"
   ]
  },
  {
   "cell_type": "code",
   "execution_count": 87,
   "id": "444f638b-d859-41d0-8dee-39c0b717712e",
   "metadata": {
    "tags": []
   },
   "outputs": [],
   "source": [
    "a = np.array([[0], [0], [2], [3], [4], [0], [0]])\n",
    "b = np.array([2, 3, 3])"
   ]
  },
  {
   "cell_type": "code",
   "execution_count": 140,
   "id": "7af1939f-3397-42a3-a348-48720abd6072",
   "metadata": {
    "tags": []
   },
   "outputs": [
    {
     "data": {
      "text/plain": [
       "array([[884331051,         0,         3],\n",
       "       [        2,         3,         3],\n",
       "       [        2,         3,         3],\n",
       "       [        2,         3,         3],\n",
       "       [        2,         3,         3],\n",
       "       [        2,         3,         3],\n",
       "       [        2,         3,         3]])"
      ]
     },
     "execution_count": 140,
     "metadata": {},
     "output_type": "execute_result"
    }
   ],
   "source": [
    "output = np.empty((7, 3), dtype='int')\n",
    "output"
   ]
  },
  {
   "cell_type": "code",
   "execution_count": 141,
   "id": "654fedf4-8a16-49d2-aaf2-9fd5b8fd4350",
   "metadata": {
    "tags": []
   },
   "outputs": [
    {
     "data": {
      "text/plain": [
       "array([[884331051,         3,         3],\n",
       "       [        2,         3,         3],\n",
       "       [        2,         3,         3],\n",
       "       [        2,         3,         3],\n",
       "       [        2,         3,         3],\n",
       "       [        2,         3,         3],\n",
       "       [        2,         3,         3]])"
      ]
     },
     "execution_count": 141,
     "metadata": {},
     "output_type": "execute_result"
    }
   ],
   "source": [
    "np.add(a, b, out=output, where=output == 0)"
   ]
  },
  {
   "cell_type": "code",
   "execution_count": 139,
   "id": "c4c967b8-2c33-4a67-9a80-8655db3f3142",
   "metadata": {
    "tags": []
   },
   "outputs": [
    {
     "data": {
      "text/plain": [
       "array([[884331576,         0,         3],\n",
       "       [        2,         3,         3],\n",
       "       [        4,         3,         3],\n",
       "       [        5,         3,         3],\n",
       "       [        6,         3,         3],\n",
       "       [        2,         3,         3],\n",
       "       [        2,         3,         3]])"
      ]
     },
     "execution_count": 139,
     "metadata": {},
     "output_type": "execute_result"
    }
   ],
   "source": [
    "output"
   ]
  },
  {
   "cell_type": "code",
   "execution_count": 149,
   "id": "2eb89bde-9883-4a94-bef8-996d5db4cd80",
   "metadata": {
    "tags": []
   },
   "outputs": [
    {
     "data": {
      "text/plain": [
       "array([ 4,  9, 16])"
      ]
     },
     "execution_count": 149,
     "metadata": {},
     "output_type": "execute_result"
    }
   ],
   "source": [
    "np.power((2, 3, 4), 2)\n",
    "np.power([2, 3, 4], 2)\n",
    "np.power(np.array([2, 3, 4]), 2)"
   ]
  },
  {
   "cell_type": "code",
   "execution_count": 154,
   "id": "66f0f95c-8c31-4884-87ab-1508e61f174c",
   "metadata": {
    "tags": []
   },
   "outputs": [
    {
     "data": {
      "text/plain": [
       "array([ 7.3890561 , 20.08553692, 54.59815003])"
      ]
     },
     "execution_count": 154,
     "metadata": {},
     "output_type": "execute_result"
    }
   ],
   "source": [
    "np.exp([2, 3, 4])"
   ]
  },
  {
   "cell_type": "code",
   "execution_count": 155,
   "id": "65a8bbaa-6ec7-457b-8808-6b6f9df07433",
   "metadata": {
    "tags": []
   },
   "outputs": [
    {
     "data": {
      "text/plain": [
       "array([ 6.3890561 , 19.08553692, 53.59815003])"
      ]
     },
     "execution_count": 155,
     "metadata": {},
     "output_type": "execute_result"
    }
   ],
   "source": [
    "np.expm1([2, 3, 4])"
   ]
  },
  {
   "cell_type": "code",
   "execution_count": 157,
   "id": "92ab552a-29a8-4bc9-92d0-7436bb245f49",
   "metadata": {
    "tags": []
   },
   "outputs": [
    {
     "data": {
      "text/plain": [
       "array([2, 5, 4])"
      ]
     },
     "execution_count": 157,
     "metadata": {},
     "output_type": "execute_result"
    }
   ],
   "source": [
    "np.maximum([2, 3, 4], [1, 5, 3])"
   ]
  },
  {
   "cell_type": "code",
   "execution_count": 159,
   "id": "1f4e9b7f-ead0-416a-9304-73752d5d74eb",
   "metadata": {
    "tags": []
   },
   "outputs": [
    {
     "data": {
      "text/plain": [
       "array([1, 3, 3])"
      ]
     },
     "execution_count": 159,
     "metadata": {},
     "output_type": "execute_result"
    }
   ],
   "source": [
    "np.minimum([2, 3, 4], [1, 5, 3])"
   ]
  },
  {
   "cell_type": "code",
   "execution_count": 168,
   "id": "e452ccdd-ba1e-4cdc-b0d5-732b8de859ba",
   "metadata": {
    "tags": []
   },
   "outputs": [
    {
     "data": {
      "text/plain": [
       "array([ 2.,  6., 10.])"
      ]
     },
     "execution_count": 168,
     "metadata": {},
     "output_type": "execute_result"
    }
   ],
   "source": [
    "np.round([2.3, 5.9, 9.5])"
   ]
  },
  {
   "cell_type": "code",
   "execution_count": 165,
   "id": "35ce53e3-4a8e-4d0b-8ba0-af0d92545c0e",
   "metadata": {
    "tags": []
   },
   "outputs": [
    {
     "data": {
      "text/plain": [
       "array([2., 5., 9.])"
      ]
     },
     "execution_count": 165,
     "metadata": {},
     "output_type": "execute_result"
    }
   ],
   "source": [
    "np.floor([2.3, 5.9, 9.5])"
   ]
  },
  {
   "cell_type": "code",
   "execution_count": 167,
   "id": "9c48f72b-cd1f-46f8-83d8-b70b3565d68b",
   "metadata": {
    "tags": []
   },
   "outputs": [
    {
     "data": {
      "text/plain": [
       "array([ 3.,  6., 10.])"
      ]
     },
     "execution_count": 167,
     "metadata": {},
     "output_type": "execute_result"
    }
   ],
   "source": [
    "np.ceil([2.3, 5.9, 9.1])"
   ]
  },
  {
   "cell_type": "code",
   "execution_count": 173,
   "id": "e8fd6248-55c9-499d-a747-38cf176de96c",
   "metadata": {
    "tags": []
   },
   "outputs": [
    {
     "data": {
      "text/plain": [
       "array([[1, 2, 3],\n",
       "       [4, 5, 1],\n",
       "       [9, 7, 0]])"
      ]
     },
     "execution_count": 173,
     "metadata": {},
     "output_type": "execute_result"
    }
   ],
   "source": [
    "a = np.array([[1, 2, 3], [4, 5, 1], [9, 7, 0]])\n",
    "a"
   ]
  },
  {
   "cell_type": "code",
   "execution_count": 175,
   "id": "edb14e60-0b39-4fb7-aa4f-e4bb02c1eeed",
   "metadata": {
    "tags": []
   },
   "outputs": [
    {
     "data": {
      "text/plain": [
       "array([1, 2, 0])"
      ]
     },
     "execution_count": 175,
     "metadata": {},
     "output_type": "execute_result"
    }
   ],
   "source": [
    "np.amin(a, axis=0)"
   ]
  },
  {
   "cell_type": "code",
   "execution_count": 176,
   "id": "1c556a09-5d78-4b53-a3ae-738b2bb615c2",
   "metadata": {
    "tags": []
   },
   "outputs": [
    {
     "data": {
      "text/plain": [
       "array([1, 1, 0])"
      ]
     },
     "execution_count": 176,
     "metadata": {},
     "output_type": "execute_result"
    }
   ],
   "source": [
    "np.amin(a, axis=1)"
   ]
  },
  {
   "cell_type": "code",
   "execution_count": null,
   "id": "bb4d34f1-56e4-42ac-9380-5c8afa6156ef",
   "metadata": {},
   "outputs": [],
   "source": []
  }
 ],
 "metadata": {
  "kernelspec": {
   "display_name": "Python 3 (ipykernel)",
   "language": "python",
   "name": "python3"
  },
  "language_info": {
   "codemirror_mode": {
    "name": "ipython",
    "version": 3
   },
   "file_extension": ".py",
   "mimetype": "text/x-python",
   "name": "python",
   "nbconvert_exporter": "python",
   "pygments_lexer": "ipython3",
   "version": "3.11.5"
  }
 },
 "nbformat": 4,
 "nbformat_minor": 5
}
